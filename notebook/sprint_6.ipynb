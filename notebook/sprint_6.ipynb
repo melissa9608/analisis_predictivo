{
 "cells": [
  {
   "cell_type": "markdown",
   "metadata": {},
   "source": [
    "# Tienda de video juegos online Ice"
   ]
  },
  {
   "cell_type": "markdown",
   "metadata": {},
   "source": [
    "Trabajas para la tienda online Ice que vende videojuegos por todo el mundo. Las reseñas de usuarios y expertos, los géneros, las plataformas (por ejemplo, Xbox o PlayStation) y los datos históricos sobre las ventas de juegos están disponibles en fuentes abiertas. Tienes que identificar patrones que determinen si un juego tiene éxito o no. Esto te permitirá detectar proyectos prometedores y planificar campañas publicitarias.\n",
    "\n",
    "Delante de ti hay datos que se remontan a 2016. Imaginemos que es diciembre de 2016 y estás planeando una campaña para 2017.\n",
    "\n",
    "Lo importante es adquirir experiencia de trabajo con datos. Realmente no importa si estás pronosticando las ventas de 2017 en función de los datos de 2016 o las ventas de 2027 en función de los datos de 2026.\n",
    "\n",
    "El dataset contiene una columna \"rating\" que almacena la clasificación ESRB de cada juego. El Entertainment Software Rating Board (la Junta de clasificación de software de entretenimiento) evalúa el contenido de un juego y asigna una clasificación de edad como Adolescente o Adulto."
   ]
  },
  {
   "cell_type": "code",
   "execution_count": 1,
   "metadata": {
    "tags": [
     "e5c1f0c2-db9f-43a0-99b9-4875c52427e8"
    ]
   },
   "outputs": [],
   "source": [
    "#Inicialización\n",
    "# Cargar todas las librerías\n",
    "import pandas as pd\n",
    "import numpy as np\n",
    "import matplotlib.pyplot as plt\n",
    "import scipy.stats as stats\n",
    "from scipy import stats as st\n",
    "import seaborn as sns\n",
    "import math \n",
    "from scipy.stats import ttest_ind"
   ]
  },
  {
   "cell_type": "markdown",
   "metadata": {},
   "source": [
    "## Paso 1. Abrir el archivo de datos y estudiar la información general "
   ]
  },
  {
   "cell_type": "code",
   "execution_count": 2,
   "metadata": {},
   "outputs": [
    {
     "name": "stdout",
     "output_type": "stream",
     "text": [
      "<class 'pandas.core.frame.DataFrame'>\n",
      "RangeIndex: 16715 entries, 0 to 16714\n",
      "Data columns (total 11 columns):\n",
      " #   Column           Non-Null Count  Dtype  \n",
      "---  ------           --------------  -----  \n",
      " 0   Name             16713 non-null  object \n",
      " 1   Platform         16715 non-null  object \n",
      " 2   Year_of_Release  16446 non-null  float64\n",
      " 3   Genre            16713 non-null  object \n",
      " 4   NA_sales         16715 non-null  float64\n",
      " 5   EU_sales         16715 non-null  float64\n",
      " 6   JP_sales         16715 non-null  float64\n",
      " 7   Other_sales      16715 non-null  float64\n",
      " 8   Critic_Score     8137 non-null   float64\n",
      " 9   User_Score       10014 non-null  object \n",
      " 10  Rating           9949 non-null   object \n",
      "dtypes: float64(6), object(5)\n",
      "memory usage: 1.4+ MB\n"
     ]
    },
    {
     "data": {
      "text/plain": [
       "None"
      ]
     },
     "metadata": {},
     "output_type": "display_data"
    },
    {
     "data": {
      "text/html": [
       "<div>\n",
       "<style scoped>\n",
       "    .dataframe tbody tr th:only-of-type {\n",
       "        vertical-align: middle;\n",
       "    }\n",
       "\n",
       "    .dataframe tbody tr th {\n",
       "        vertical-align: top;\n",
       "    }\n",
       "\n",
       "    .dataframe thead th {\n",
       "        text-align: right;\n",
       "    }\n",
       "</style>\n",
       "<table border=\"1\" class=\"dataframe\">\n",
       "  <thead>\n",
       "    <tr style=\"text-align: right;\">\n",
       "      <th></th>\n",
       "      <th>Name</th>\n",
       "      <th>Platform</th>\n",
       "      <th>Year_of_Release</th>\n",
       "      <th>Genre</th>\n",
       "      <th>NA_sales</th>\n",
       "      <th>EU_sales</th>\n",
       "      <th>JP_sales</th>\n",
       "      <th>Other_sales</th>\n",
       "      <th>Critic_Score</th>\n",
       "      <th>User_Score</th>\n",
       "      <th>Rating</th>\n",
       "    </tr>\n",
       "  </thead>\n",
       "  <tbody>\n",
       "    <tr>\n",
       "      <th>14381</th>\n",
       "      <td>Castlevania: Lords of Shadow - Reverie</td>\n",
       "      <td>PS3</td>\n",
       "      <td>2011.0</td>\n",
       "      <td>Action</td>\n",
       "      <td>0.02</td>\n",
       "      <td>0.00</td>\n",
       "      <td>0.00</td>\n",
       "      <td>0.01</td>\n",
       "      <td>NaN</td>\n",
       "      <td>NaN</td>\n",
       "      <td>NaN</td>\n",
       "    </tr>\n",
       "    <tr>\n",
       "      <th>10053</th>\n",
       "      <td>The Price is Right: Decades</td>\n",
       "      <td>X360</td>\n",
       "      <td>2011.0</td>\n",
       "      <td>Misc</td>\n",
       "      <td>0.11</td>\n",
       "      <td>0.00</td>\n",
       "      <td>0.00</td>\n",
       "      <td>0.01</td>\n",
       "      <td>NaN</td>\n",
       "      <td>tbd</td>\n",
       "      <td>E10+</td>\n",
       "    </tr>\n",
       "    <tr>\n",
       "      <th>5983</th>\n",
       "      <td>Alvin and the Chipmunks: The Squeakquel</td>\n",
       "      <td>DS</td>\n",
       "      <td>2009.0</td>\n",
       "      <td>Misc</td>\n",
       "      <td>0.27</td>\n",
       "      <td>0.00</td>\n",
       "      <td>0.00</td>\n",
       "      <td>0.02</td>\n",
       "      <td>NaN</td>\n",
       "      <td>tbd</td>\n",
       "      <td>E</td>\n",
       "    </tr>\n",
       "    <tr>\n",
       "      <th>10856</th>\n",
       "      <td>Hakuoki: Demon of the Fleeting Blossom</td>\n",
       "      <td>PSP</td>\n",
       "      <td>2009.0</td>\n",
       "      <td>Adventure</td>\n",
       "      <td>0.08</td>\n",
       "      <td>0.00</td>\n",
       "      <td>0.00</td>\n",
       "      <td>0.01</td>\n",
       "      <td>79.0</td>\n",
       "      <td>8.3</td>\n",
       "      <td>M</td>\n",
       "    </tr>\n",
       "    <tr>\n",
       "      <th>14813</th>\n",
       "      <td>Frogger: Ancient Shadow</td>\n",
       "      <td>XB</td>\n",
       "      <td>2005.0</td>\n",
       "      <td>Platform</td>\n",
       "      <td>0.02</td>\n",
       "      <td>0.01</td>\n",
       "      <td>0.00</td>\n",
       "      <td>0.00</td>\n",
       "      <td>47.0</td>\n",
       "      <td>tbd</td>\n",
       "      <td>E</td>\n",
       "    </tr>\n",
       "    <tr>\n",
       "      <th>1801</th>\n",
       "      <td>Naruto Shippuden: Ultimate Ninja Storm 4</td>\n",
       "      <td>PS4</td>\n",
       "      <td>2016.0</td>\n",
       "      <td>Fighting</td>\n",
       "      <td>0.41</td>\n",
       "      <td>0.45</td>\n",
       "      <td>0.11</td>\n",
       "      <td>0.17</td>\n",
       "      <td>79.0</td>\n",
       "      <td>8.2</td>\n",
       "      <td>T</td>\n",
       "    </tr>\n",
       "    <tr>\n",
       "      <th>6256</th>\n",
       "      <td>Over the Hedge</td>\n",
       "      <td>DS</td>\n",
       "      <td>2006.0</td>\n",
       "      <td>Platform</td>\n",
       "      <td>0.24</td>\n",
       "      <td>0.01</td>\n",
       "      <td>0.00</td>\n",
       "      <td>0.02</td>\n",
       "      <td>71.0</td>\n",
       "      <td>6.4</td>\n",
       "      <td>E</td>\n",
       "    </tr>\n",
       "    <tr>\n",
       "      <th>4379</th>\n",
       "      <td>Brunswick Pro Bowling</td>\n",
       "      <td>X360</td>\n",
       "      <td>2010.0</td>\n",
       "      <td>Sports</td>\n",
       "      <td>0.38</td>\n",
       "      <td>0.04</td>\n",
       "      <td>0.00</td>\n",
       "      <td>0.03</td>\n",
       "      <td>44.0</td>\n",
       "      <td>tbd</td>\n",
       "      <td>E</td>\n",
       "    </tr>\n",
       "    <tr>\n",
       "      <th>7146</th>\n",
       "      <td>Ben 10 Ultimate Alien: Cosmic Destruction</td>\n",
       "      <td>PS2</td>\n",
       "      <td>2010.0</td>\n",
       "      <td>Platform</td>\n",
       "      <td>0.13</td>\n",
       "      <td>0.06</td>\n",
       "      <td>0.00</td>\n",
       "      <td>0.04</td>\n",
       "      <td>NaN</td>\n",
       "      <td>tbd</td>\n",
       "      <td>E10+</td>\n",
       "    </tr>\n",
       "    <tr>\n",
       "      <th>8688</th>\n",
       "      <td>AC/DC LIVE: Rock Band Track Pack</td>\n",
       "      <td>PS2</td>\n",
       "      <td>2008.0</td>\n",
       "      <td>Misc</td>\n",
       "      <td>0.08</td>\n",
       "      <td>0.06</td>\n",
       "      <td>0.00</td>\n",
       "      <td>0.02</td>\n",
       "      <td>NaN</td>\n",
       "      <td>tbd</td>\n",
       "      <td>T</td>\n",
       "    </tr>\n",
       "    <tr>\n",
       "      <th>14181</th>\n",
       "      <td>Gothic Universe</td>\n",
       "      <td>PC</td>\n",
       "      <td>2007.0</td>\n",
       "      <td>Role-Playing</td>\n",
       "      <td>0.00</td>\n",
       "      <td>0.03</td>\n",
       "      <td>0.00</td>\n",
       "      <td>0.01</td>\n",
       "      <td>NaN</td>\n",
       "      <td>7.9</td>\n",
       "      <td>M</td>\n",
       "    </tr>\n",
       "    <tr>\n",
       "      <th>9678</th>\n",
       "      <td>Kilari: Na-san, Mon Meilleur Ami</td>\n",
       "      <td>DS</td>\n",
       "      <td>2006.0</td>\n",
       "      <td>Simulation</td>\n",
       "      <td>0.00</td>\n",
       "      <td>0.00</td>\n",
       "      <td>0.12</td>\n",
       "      <td>0.00</td>\n",
       "      <td>NaN</td>\n",
       "      <td>NaN</td>\n",
       "      <td>NaN</td>\n",
       "    </tr>\n",
       "    <tr>\n",
       "      <th>7865</th>\n",
       "      <td>Boogie</td>\n",
       "      <td>PS2</td>\n",
       "      <td>2007.0</td>\n",
       "      <td>Misc</td>\n",
       "      <td>0.09</td>\n",
       "      <td>0.07</td>\n",
       "      <td>0.00</td>\n",
       "      <td>0.02</td>\n",
       "      <td>52.0</td>\n",
       "      <td>tbd</td>\n",
       "      <td>E10+</td>\n",
       "    </tr>\n",
       "    <tr>\n",
       "      <th>13527</th>\n",
       "      <td>Virtua Tennis 3</td>\n",
       "      <td>X360</td>\n",
       "      <td>2007.0</td>\n",
       "      <td>Sports</td>\n",
       "      <td>0.03</td>\n",
       "      <td>0.01</td>\n",
       "      <td>0.00</td>\n",
       "      <td>0.00</td>\n",
       "      <td>80.0</td>\n",
       "      <td>6.8</td>\n",
       "      <td>E</td>\n",
       "    </tr>\n",
       "    <tr>\n",
       "      <th>2879</th>\n",
       "      <td>Power Rangers: Dino Thunder</td>\n",
       "      <td>PS2</td>\n",
       "      <td>2004.0</td>\n",
       "      <td>Action</td>\n",
       "      <td>0.35</td>\n",
       "      <td>0.27</td>\n",
       "      <td>0.00</td>\n",
       "      <td>0.09</td>\n",
       "      <td>49.0</td>\n",
       "      <td>6.2</td>\n",
       "      <td>E</td>\n",
       "    </tr>\n",
       "  </tbody>\n",
       "</table>\n",
       "</div>"
      ],
      "text/plain": [
       "                                            Name Platform  Year_of_Release  \\\n",
       "14381     Castlevania: Lords of Shadow - Reverie      PS3           2011.0   \n",
       "10053                The Price is Right: Decades     X360           2011.0   \n",
       "5983     Alvin and the Chipmunks: The Squeakquel       DS           2009.0   \n",
       "10856     Hakuoki: Demon of the Fleeting Blossom      PSP           2009.0   \n",
       "14813                    Frogger: Ancient Shadow       XB           2005.0   \n",
       "1801    Naruto Shippuden: Ultimate Ninja Storm 4      PS4           2016.0   \n",
       "6256                              Over the Hedge       DS           2006.0   \n",
       "4379                       Brunswick Pro Bowling     X360           2010.0   \n",
       "7146   Ben 10 Ultimate Alien: Cosmic Destruction      PS2           2010.0   \n",
       "8688            AC/DC LIVE: Rock Band Track Pack      PS2           2008.0   \n",
       "14181                            Gothic Universe       PC           2007.0   \n",
       "9678            Kilari: Na-san, Mon Meilleur Ami       DS           2006.0   \n",
       "7865                                      Boogie      PS2           2007.0   \n",
       "13527                            Virtua Tennis 3     X360           2007.0   \n",
       "2879                 Power Rangers: Dino Thunder      PS2           2004.0   \n",
       "\n",
       "              Genre  NA_sales  EU_sales  JP_sales  Other_sales  Critic_Score  \\\n",
       "14381        Action      0.02      0.00      0.00         0.01           NaN   \n",
       "10053          Misc      0.11      0.00      0.00         0.01           NaN   \n",
       "5983           Misc      0.27      0.00      0.00         0.02           NaN   \n",
       "10856     Adventure      0.08      0.00      0.00         0.01          79.0   \n",
       "14813      Platform      0.02      0.01      0.00         0.00          47.0   \n",
       "1801       Fighting      0.41      0.45      0.11         0.17          79.0   \n",
       "6256       Platform      0.24      0.01      0.00         0.02          71.0   \n",
       "4379         Sports      0.38      0.04      0.00         0.03          44.0   \n",
       "7146       Platform      0.13      0.06      0.00         0.04           NaN   \n",
       "8688           Misc      0.08      0.06      0.00         0.02           NaN   \n",
       "14181  Role-Playing      0.00      0.03      0.00         0.01           NaN   \n",
       "9678     Simulation      0.00      0.00      0.12         0.00           NaN   \n",
       "7865           Misc      0.09      0.07      0.00         0.02          52.0   \n",
       "13527        Sports      0.03      0.01      0.00         0.00          80.0   \n",
       "2879         Action      0.35      0.27      0.00         0.09          49.0   \n",
       "\n",
       "      User_Score Rating  \n",
       "14381        NaN    NaN  \n",
       "10053        tbd   E10+  \n",
       "5983         tbd      E  \n",
       "10856        8.3      M  \n",
       "14813        tbd      E  \n",
       "1801         8.2      T  \n",
       "6256         6.4      E  \n",
       "4379         tbd      E  \n",
       "7146         tbd   E10+  \n",
       "8688         tbd      T  \n",
       "14181        7.9      M  \n",
       "9678         NaN    NaN  \n",
       "7865         tbd   E10+  \n",
       "13527        6.8      E  \n",
       "2879         6.2      E  "
      ]
     },
     "metadata": {},
     "output_type": "display_data"
    }
   ],
   "source": [
    "# Cargar datos\n",
    "df_games = pd.read_csv('/datasets/games.csv')\n",
    "\n",
    "#Información general \n",
    "\n",
    "display(df_games.info())\n",
    "display(df_games.sample(15))\n"
   ]
  },
  {
   "cell_type": "markdown",
   "metadata": {},
   "source": [
    "**La tienda online Ice vende videojuegos por todo el mundo y en su dataset presenta:**\n",
    "\n",
    "16715 entradas en total\n",
    "\n",
    "Descripción de datos\n",
    "\n",
    "\n",
    "— Name (Nombre): 16713, posiblemente con valores ausentes, tipo de dato: object \n",
    "\n",
    "— Platform (Plataforma): 16715, no tiene valores ausentes, tipo de dato: object \n",
    "\n",
    "— Year_of_Release (Año de lanzamiento): 16446, posiblemente tiene valores ausentes, tipo de dato: float64\n",
    "\n",
    "— Genre (Género): 16713, posiblemente con valores ausentes, tipo de dato: object \n",
    "\n",
    "— NA_sales (ventas en Norteamérica en millones de dólares estadounidenses): 16715, no tiene valores ausentes, tipo de dato: float64 \n",
    "\n",
    "— EU_sales (ventas en Europa en millones de dólares estadounidenses): 16715, no tiene valores ausentes, tipo de dato: float64\n",
    "\n",
    "— JP_sales (ventas en Japón en millones de dólares estadounidenses): 16715, no tiene valores ausentes, tipo de dato: float64 \n",
    "\n",
    "— Other_sales (ventas en otros países en millones de dólares estadounidenses): 16715, no tiene valores ausentes, tipo de dato: float64\n",
    "\n",
    "— Critic_Score (máximo de 100): 8137, posiblemente tiene valores ausentes, tipo de dato: float64\n",
    "\n",
    "— User_Score (máximo de 10): 10014, posiblemente con valores ausentes, tipo de dato: object \n",
    "\n",
    "— Rating (ESRB): 9949, posiblemente con valores ausentes, tipo de dato: object \n",
    "\n",
    "Se va a proceder a hacer una limpieza de datos:\n",
    "\n",
    "- Reemplazar los nombres de las columnas (ponerlos en minúsculas).\n",
    "\n",
    "- Convertir los datos en los tipos necesarios.\n",
    "\n",
    "- Eliminar valores duplicados\n",
    " \n",
    "- Reemplazar valores ausentes"
   ]
  },
  {
   "cell_type": "markdown",
   "metadata": {},
   "source": [
    "## Paso 2. Preparar los datos\n",
    "\n",
    "- Reemplaza los nombres de las columnas (ponlos en minúsculas).\n",
    "- Convierte los datos en los tipos necesarios.\n",
    "- Describe las columnas en las que los tipos de datos han sido cambiados y explica por qué.\n",
    "- Si es necesario, elige la manera de tratar los valores ausentes:\n",
    "- Explica por qué rellenaste los valores ausentes como lo hiciste o por qué decidiste dejarlos en blanco.\n",
    "- ¿Por qué crees que los valores están ausentes? Brinda explicaciones posibles.\n",
    "- Presta atención a la abreviatura TBD: significa \"to be determined\" (a determinar). Especifica cómo piensas manejar estos casos.\n",
    "- Calcula las ventas totales (la suma de las ventas en todas las regiones) para cada juego y coloca estos valores en una columna separada."
   ]
  },
  {
   "cell_type": "code",
   "execution_count": 3,
   "metadata": {},
   "outputs": [
    {
     "name": "stdout",
     "output_type": "stream",
     "text": [
      "Index(['Name', 'Platform', 'Year_of_Release', 'Genre', 'NA_sales', 'EU_sales',\n",
      "       'JP_sales', 'Other_sales', 'Critic_Score', 'User_Score', 'Rating'],\n",
      "      dtype='object')\n"
     ]
    }
   ],
   "source": [
    "# Reemplazar los nombres de las columnas (ponerlos en minúsculas).\n",
    "\n",
    "# Nombres de las columnas\n",
    "\n",
    "print(df_games.columns)"
   ]
  },
  {
   "cell_type": "code",
   "execution_count": 4,
   "metadata": {},
   "outputs": [
    {
     "name": "stdout",
     "output_type": "stream",
     "text": [
      "Index(['name', 'platform', 'year_of_release', 'genre', 'na_sales', 'eu_sales',\n",
      "       'jp_sales', 'other_sales', 'critic_score', 'user_score', 'rating'],\n",
      "      dtype='object')\n"
     ]
    }
   ],
   "source": [
    "new_name= []\n",
    "for old_name in df_games:\n",
    "    name_lowercase = old_name.lower()\n",
    "    new_name.append(name_lowercase)\n",
    "    \n",
    "df_games.columns = new_name\n",
    "\n",
    "print(df_games.columns)\n"
   ]
  },
  {
   "cell_type": "code",
   "execution_count": 5,
   "metadata": {},
   "outputs": [
    {
     "name": "stdout",
     "output_type": "stream",
     "text": [
      "0\n"
     ]
    }
   ],
   "source": [
    "# Calcular el número de valores duplicados\n",
    "\n",
    "print(df_games.duplicated().sum())"
   ]
  },
  {
   "cell_type": "markdown",
   "metadata": {},
   "source": [
    "No hay filas duplicadas en el DataFrame"
   ]
  },
  {
   "cell_type": "markdown",
   "metadata": {},
   "source": [
    "###  name (Nombre)"
   ]
  },
  {
   "cell_type": "code",
   "execution_count": 6,
   "metadata": {},
   "outputs": [
    {
     "name": "stdout",
     "output_type": "stream",
     "text": [
      "name                  2\n",
      "platform              0\n",
      "year_of_release     269\n",
      "genre                 2\n",
      "na_sales              0\n",
      "eu_sales              0\n",
      "jp_sales              0\n",
      "other_sales           0\n",
      "critic_score       8578\n",
      "user_score         6701\n",
      "rating             6766\n",
      "dtype: int64\n",
      "En la colunma \"name\" hay:  2  valores ausentes\n"
     ]
    }
   ],
   "source": [
    "# Calcular el número de valores ausentes\n",
    "\n",
    "print(df_games.isna().sum())\n",
    "\n",
    "print('En la colunma \"name\" hay: ', df_games['name'].isna().sum(), ' valores ausentes')"
   ]
  },
  {
   "cell_type": "code",
   "execution_count": 7,
   "metadata": {},
   "outputs": [
    {
     "name": "stdout",
     "output_type": "stream",
     "text": [
      "0\n"
     ]
    }
   ],
   "source": [
    "df_games['name'].fillna('unknown', inplace = True)\n",
    "\n",
    "print(df_games['name'].isna().sum())"
   ]
  },
  {
   "cell_type": "markdown",
   "metadata": {},
   "source": [
    "La columna 'name' tenía dos valores ausentes, se reemplazaron los valores ausentes con 'unknown' ya que no se sabe cuál es el nombre de los juegos de estos valores."
   ]
  },
  {
   "cell_type": "markdown",
   "metadata": {},
   "source": [
    "No hay filas duplicadas en el DataFrame\n",
    "\n",
    "El tipo de datos es correcto puesto de que se trata de una cadena de caracteres  y el tipo de datos es object "
   ]
  },
  {
   "cell_type": "markdown",
   "metadata": {},
   "source": [
    "### 3 platform (Plataforma)"
   ]
  },
  {
   "cell_type": "code",
   "execution_count": 8,
   "metadata": {},
   "outputs": [
    {
     "name": "stdout",
     "output_type": "stream",
     "text": [
      "0\n"
     ]
    }
   ],
   "source": [
    "# Calcular el número de valores ausentes\n",
    "\n",
    "print(df_games['platform'].isna().sum())"
   ]
  },
  {
   "cell_type": "markdown",
   "metadata": {},
   "source": [
    "No hay valores ausentes.\n",
    "\n",
    "El tipo de datos es correcto puesto de que se trata de una cadena de caracteres  y el tipo de datos es object "
   ]
  },
  {
   "cell_type": "markdown",
   "metadata": {},
   "source": [
    "### year_of_release (Año de lanzamiento)"
   ]
  },
  {
   "cell_type": "code",
   "execution_count": 9,
   "metadata": {},
   "outputs": [
    {
     "name": "stdout",
     "output_type": "stream",
     "text": [
      "269\n"
     ]
    }
   ],
   "source": [
    "# Calcular el número de valores ausentes\n",
    "\n",
    "print(df_games['year_of_release'].isna().sum())"
   ]
  },
  {
   "cell_type": "code",
   "execution_count": 10,
   "metadata": {},
   "outputs": [
    {
     "name": "stdout",
     "output_type": "stream",
     "text": [
      "0\n"
     ]
    }
   ],
   "source": [
    "# Reemplazar valores ausentes\n",
    "\n",
    "df_games['year_of_release'].fillna(0, inplace = True)\n",
    "print(df_games['year_of_release'].isna().sum())\n",
    "\n"
   ]
  },
  {
   "cell_type": "code",
   "execution_count": 11,
   "metadata": {},
   "outputs": [
    {
     "name": "stdout",
     "output_type": "stream",
     "text": [
      "<class 'pandas.core.frame.DataFrame'>\n",
      "RangeIndex: 16715 entries, 0 to 16714\n",
      "Data columns (total 11 columns):\n",
      " #   Column           Non-Null Count  Dtype  \n",
      "---  ------           --------------  -----  \n",
      " 0   name             16715 non-null  object \n",
      " 1   platform         16715 non-null  object \n",
      " 2   year_of_release  16715 non-null  int64  \n",
      " 3   genre            16713 non-null  object \n",
      " 4   na_sales         16715 non-null  float64\n",
      " 5   eu_sales         16715 non-null  float64\n",
      " 6   jp_sales         16715 non-null  float64\n",
      " 7   other_sales      16715 non-null  float64\n",
      " 8   critic_score     8137 non-null   float64\n",
      " 9   user_score       10014 non-null  object \n",
      " 10  rating           9949 non-null   object \n",
      "dtypes: float64(5), int64(1), object(5)\n",
      "memory usage: 1.4+ MB\n",
      "None\n"
     ]
    }
   ],
   "source": [
    "# Cambiar tipo de datos\n",
    "\n",
    "df_games['year_of_release'] = df_games['year_of_release'].astype('int')\n",
    "\n",
    "print(df_games.info())"
   ]
  },
  {
   "cell_type": "code",
   "execution_count": 12,
   "metadata": {},
   "outputs": [],
   "source": [
    "df_games = df_games.drop(df_games[df_games['year_of_release'] == 0].index)"
   ]
  },
  {
   "cell_type": "markdown",
   "metadata": {},
   "source": [
    "convertir los datos a tipo entero (int) es más apropiado para representar solo el año, ya que conserva la información necesaria de una manera más eficiente y coherente. Además, esto facilita cualquier operación numérica o comparación que se vaya a  realizar posteriormente."
   ]
  },
  {
   "cell_type": "markdown",
   "metadata": {},
   "source": [
    "### genre (Género)"
   ]
  },
  {
   "cell_type": "code",
   "execution_count": 13,
   "metadata": {},
   "outputs": [
    {
     "name": "stdout",
     "output_type": "stream",
     "text": [
      "2\n"
     ]
    }
   ],
   "source": [
    "# Calcular el número de valores ausentes\n",
    "\n",
    "print(df_games['genre'].isna().sum())"
   ]
  },
  {
   "cell_type": "code",
   "execution_count": 14,
   "metadata": {},
   "outputs": [
    {
     "name": "stdout",
     "output_type": "stream",
     "text": [
      "0\n"
     ]
    }
   ],
   "source": [
    "#Reemplazar valores ausentes\n",
    "\n",
    "df_games['genre'].fillna('unknown', inplace = True)\n",
    "\n",
    "print(df_games['genre'].isna().sum())"
   ]
  },
  {
   "cell_type": "markdown",
   "metadata": {},
   "source": [
    "La columna 'genre' tenía dos valores ausentes, se reemplazaron los valores ausentes con 'unknown' ya que no se sabe cuál es el género de los juegos de estos valores.\n",
    "\n",
    "El tipo de datos es correcto puesto de que se trata de una cadena de caracteres  y el tipo de datos es object64"
   ]
  },
  {
   "cell_type": "markdown",
   "metadata": {},
   "source": [
    "### na_sales (ventas en Norteamérica en millones de dólares estadounidenses)"
   ]
  },
  {
   "cell_type": "code",
   "execution_count": 15,
   "metadata": {},
   "outputs": [
    {
     "name": "stdout",
     "output_type": "stream",
     "text": [
      "0\n"
     ]
    }
   ],
   "source": [
    "# Calcular el número de valores ausentes\n",
    "\n",
    "print(df_games['na_sales'].isna().sum())"
   ]
  },
  {
   "cell_type": "markdown",
   "metadata": {},
   "source": [
    "No hay valores ausentes\n",
    "\n",
    "El tipo de datos es correcto, puesto que se trata de un valor númerico que lleva decimales y el tipo de dato es float64"
   ]
  },
  {
   "cell_type": "markdown",
   "metadata": {},
   "source": [
    "### eu_sales "
   ]
  },
  {
   "cell_type": "code",
   "execution_count": 16,
   "metadata": {},
   "outputs": [
    {
     "name": "stdout",
     "output_type": "stream",
     "text": [
      "0\n"
     ]
    }
   ],
   "source": [
    "# Calcular el número de valores ausentes\n",
    "\n",
    "print(df_games['eu_sales'].isna().sum())"
   ]
  },
  {
   "cell_type": "markdown",
   "metadata": {},
   "source": [
    "No hay valores ausentes\n",
    "\n",
    "El tipo de datos es correcto, puesto que se trata de un valor númerico que lleva decimales y el tipo de dato es float64"
   ]
  },
  {
   "cell_type": "markdown",
   "metadata": {},
   "source": [
    "### jp_sales"
   ]
  },
  {
   "cell_type": "code",
   "execution_count": 17,
   "metadata": {},
   "outputs": [
    {
     "name": "stdout",
     "output_type": "stream",
     "text": [
      "0\n"
     ]
    }
   ],
   "source": [
    "# Calcular el número de valores ausentes\n",
    "\n",
    "print(df_games['jp_sales'].isna().sum())"
   ]
  },
  {
   "cell_type": "markdown",
   "metadata": {},
   "source": [
    "No hay valores ausentes\n",
    "\n",
    "El tipo de datos es correcto, puesto que se trata de un valor númerico que lleva decimales y el tipo de dato es float64"
   ]
  },
  {
   "cell_type": "markdown",
   "metadata": {},
   "source": [
    "### other_sales  "
   ]
  },
  {
   "cell_type": "code",
   "execution_count": 18,
   "metadata": {},
   "outputs": [
    {
     "name": "stdout",
     "output_type": "stream",
     "text": [
      "0\n"
     ]
    }
   ],
   "source": [
    "# Calcular el número de valores ausentes\n",
    "\n",
    "print(df_games['other_sales'].isna().sum())"
   ]
  },
  {
   "cell_type": "markdown",
   "metadata": {},
   "source": [
    "No hay valores ausentes\n",
    "\n",
    "El tipo de datos es correcto, puesto que se trata de un valor númerico que lleva decimales y el tipo de dato es float64"
   ]
  },
  {
   "cell_type": "markdown",
   "metadata": {},
   "source": [
    "### critic_score"
   ]
  },
  {
   "cell_type": "code",
   "execution_count": 19,
   "metadata": {},
   "outputs": [
    {
     "name": "stdout",
     "output_type": "stream",
     "text": [
      "8463\n"
     ]
    },
    {
     "data": {
      "text/plain": [
       "name                0.000000\n",
       "platform            0.000000\n",
       "year_of_release     0.000000\n",
       "genre               0.000000\n",
       "na_sales            0.000000\n",
       "eu_sales            0.000000\n",
       "jp_sales            0.000000\n",
       "other_sales         0.000000\n",
       "critic_score       51.459321\n",
       "user_score         40.173902\n",
       "rating             40.605618\n",
       "dtype: float64"
      ]
     },
     "execution_count": 19,
     "metadata": {},
     "output_type": "execute_result"
    }
   ],
   "source": [
    "# Calcular el número de valores ausentes\n",
    "\n",
    "print(df_games['critic_score'].isna().sum())\n",
    "\n",
    "100*(df_games.isna().sum()/df_games.shape[0])"
   ]
  },
  {
   "cell_type": "markdown",
   "metadata": {},
   "source": [
    "La cantidad de valores ausentes de la columna critic_score corresponde al 51% del total de los datos, por lo que no es conveniente reemplazar los valores ausentes por cero, ya que esto podría interferir en los análisis estadisticos futuros. \n",
    "\n",
    "Al mantener los valores como NaN, se asegura que todos los datos faltantes sean tratados de manera uniforme durante tus cálculos estadísticos. Esto te permitirá realizar análisis más precisos y evitará cualquier sesgo en los resultados debido a la forma en que se manejan los valores ausentes."
   ]
  },
  {
   "cell_type": "markdown",
   "metadata": {},
   "source": [
    "El tipo de datos es correcto, puesto que se trata de un valor númerico que lleva decimales y el tipo de dato es float64"
   ]
  },
  {
   "cell_type": "markdown",
   "metadata": {},
   "source": [
    "### user_score (máximo de 10)"
   ]
  },
  {
   "cell_type": "code",
   "execution_count": 20,
   "metadata": {},
   "outputs": [
    {
     "name": "stdout",
     "output_type": "stream",
     "text": [
      "6607\n"
     ]
    }
   ],
   "source": [
    "# Calcular el número de valores ausentes\n",
    "\n",
    "print(df_games['user_score'].isna().sum())\n"
   ]
  },
  {
   "cell_type": "code",
   "execution_count": 21,
   "metadata": {},
   "outputs": [
    {
     "name": "stdout",
     "output_type": "stream",
     "text": [
      "2376\n"
     ]
    }
   ],
   "source": [
    "# Conteo número de valores que son 'tbd' \"to be determined\" \n",
    "\n",
    "tbd_count = (df_games['user_score'] == 'tbd').sum()\n",
    "\n",
    "print(tbd_count)"
   ]
  },
  {
   "cell_type": "code",
   "execution_count": 22,
   "metadata": {},
   "outputs": [
    {
     "name": "stdout",
     "output_type": "stream",
     "text": [
      "0\n",
      "<class 'pandas.core.frame.DataFrame'>\n",
      "Int64Index: 16446 entries, 0 to 16714\n",
      "Data columns (total 11 columns):\n",
      " #   Column           Non-Null Count  Dtype  \n",
      "---  ------           --------------  -----  \n",
      " 0   name             16446 non-null  object \n",
      " 1   platform         16446 non-null  object \n",
      " 2   year_of_release  16446 non-null  int64  \n",
      " 3   genre            16446 non-null  object \n",
      " 4   na_sales         16446 non-null  float64\n",
      " 5   eu_sales         16446 non-null  float64\n",
      " 6   jp_sales         16446 non-null  float64\n",
      " 7   other_sales      16446 non-null  float64\n",
      " 8   critic_score     7983 non-null   float64\n",
      " 9   user_score       7463 non-null   float64\n",
      " 10  rating           9768 non-null   object \n",
      "dtypes: float64(6), int64(1), object(4)\n",
      "memory usage: 1.5+ MB\n",
      "None\n"
     ]
    }
   ],
   "source": [
    "# Convertir tbt como  NaN (Not a Number) con errors\n",
    "\n",
    "df_games['user_score'] = pd.to_numeric(df_games['user_score'], errors = 'coerce')\n",
    "\n",
    "\n",
    "tbd_count = (df_games['user_score'] == 'tbd').sum()\n",
    "\n",
    "print(tbd_count)\n",
    "\n",
    "print(df_games.info())"
   ]
  },
  {
   "cell_type": "markdown",
   "metadata": {},
   "source": [
    "Dado que posteriormente se va a realizar el análisis estadístico sobre las calificaciones promedio de usuarios para diferentes plataformas y géneros, es probable que sea mejor reemplazar los valores \"tbd\" por NaN. Esto evitará distorsiones en los resultados y permitirá un manejo más apropiado de los datos en las pruebas de hipótesis.\n",
    "\n",
    "Dado que la columna user_score corresponde a un puntaje, no es conveninente reemplazar los valores ausentes por cero, ya que esto podría interferir en los análisis estadisticos futuros. \n",
    "\n",
    "Al mantener los valores como NaN, se asegura que todos los datos faltantes sean tratados de manera uniforme durante tus cálculos estadísticos. Esto te permitirá realizar análisis más precisos y evitará cualquier sesgo en los resultados debido a la forma en que se manejan los valores ausentes."
   ]
  },
  {
   "cell_type": "markdown",
   "metadata": {},
   "source": [
    "El tipo de datos es incorrecto, dado que actualmente es tipo object64, sin embargo el puntaje corresponde a un valor númerico.\n",
    "\n",
    "Se hizo el cambio de str a float64"
   ]
  },
  {
   "cell_type": "code",
   "execution_count": 23,
   "metadata": {},
   "outputs": [
    {
     "name": "stdout",
     "output_type": "stream",
     "text": [
      "0.0\n",
      "9.7\n"
     ]
    }
   ],
   "source": [
    "# Verificar que el valor máximo y mínimo esté entre 0 y 10\n",
    "\n",
    "print(df_games['user_score'].min())\n",
    "\n",
    "print(df_games['user_score'].max())"
   ]
  },
  {
   "cell_type": "markdown",
   "metadata": {},
   "source": [
    "Los valores mínimo y máximo se encuentran en el rango correcto"
   ]
  },
  {
   "cell_type": "markdown",
   "metadata": {},
   "source": [
    "### rating (ESRB)"
   ]
  },
  {
   "cell_type": "code",
   "execution_count": 24,
   "metadata": {},
   "outputs": [
    {
     "name": "stdout",
     "output_type": "stream",
     "text": [
      "6678\n"
     ]
    }
   ],
   "source": [
    "# Calcular el número de valores ausentes\n",
    "\n",
    "print(df_games['rating'].isna().sum())\n"
   ]
  },
  {
   "cell_type": "markdown",
   "metadata": {},
   "source": [
    "La columna rating corresponde a un puntaje en letras, por lo tanto no es conveninente eliminar los valores ausentes, ya que esto podría interferir en los análisis estadisticos futuros.\n",
    "\n",
    "Al mantener los valores como NaN, se asegura que todos los datos faltantes sean tratados de manera uniforme durante tus cálculos estadísticos. Esto te permitirá realizar análisis más precisos y evitará cualquier sesgo en los resultados debido a la forma en que se manejan los valores ausentes."
   ]
  },
  {
   "cell_type": "code",
   "execution_count": 25,
   "metadata": {},
   "outputs": [
    {
     "name": "stdout",
     "output_type": "stream",
     "text": [
      "<class 'pandas.core.frame.DataFrame'>\n",
      "Int64Index: 16446 entries, 0 to 16714\n",
      "Data columns (total 11 columns):\n",
      " #   Column           Non-Null Count  Dtype  \n",
      "---  ------           --------------  -----  \n",
      " 0   name             16446 non-null  object \n",
      " 1   platform         16446 non-null  object \n",
      " 2   year_of_release  16446 non-null  int64  \n",
      " 3   genre            16446 non-null  object \n",
      " 4   na_sales         16446 non-null  float64\n",
      " 5   eu_sales         16446 non-null  float64\n",
      " 6   jp_sales         16446 non-null  float64\n",
      " 7   other_sales      16446 non-null  float64\n",
      " 8   critic_score     7983 non-null   float64\n",
      " 9   user_score       7463 non-null   float64\n",
      " 10  rating           9768 non-null   object \n",
      "dtypes: float64(6), int64(1), object(4)\n",
      "memory usage: 1.5+ MB\n",
      "None\n"
     ]
    }
   ],
   "source": [
    "print(df_games.info())"
   ]
  },
  {
   "cell_type": "markdown",
   "metadata": {},
   "source": [
    "El tipo de datos es correcto puesto de que se trata de una cadena de caracteres  y el tipo de datos es object "
   ]
  },
  {
   "cell_type": "markdown",
   "metadata": {},
   "source": [
    "### Análisis general de la preparación de los datos\n",
    "\n",
    "\n",
    "El dataset se compone de varias columnas que contienen información relevante para un análisis posterior. Entre estas columnas se encuentran las puntuaciones de los usuarios y de la crítica, así como la clasificación ESRB de cada juego. Estos datos nos proporcionarán una visión detallada de la recepción y la calidad de los juegos en términos de la opinión de los usuarios y los expertos. Posteriormente, realizaremos un análisis estadístico exhaustivo de estas puntuaciones para identificar patrones y tendencias que nos ayudarán a predecir el éxito de los juegos y planificar nuestras estrategias de marketing de manera efectiva.\n",
    "\n",
    "Se puede evidenciar que hay algunos valores ausentes en las columnas de puntuaciones de critic_score y user_score, así como en la clasificación rating ESRB. Sin embargo, se tomó la decisión de no cambiar esos valores por cero o eliminar las filas correspondientes, ya que se espera utilizar esos datos en análisis estadísticos futuros. Mantener estos valores ausentes como NaN permite un manejo uniforme de los datos durante los cálculos estadísticos, lo que garantiza resultados más precisos y evita sesgos en los análisis debido a la forma en que se manejan los valores faltantes."
   ]
  },
  {
   "cell_type": "markdown",
   "metadata": {},
   "source": [
    "Los valores ausentes en los datos pueden atribuirse a varios factores, que incluyen errores durante la recopilación de datos, la falta de aplicabilidad de ciertas características para algunos casos, decisiones de diseño del estudio, falta del ingreso de datos por parte de los usuarios, juegos no calificados, años en donde no se hacía dicho seguimiento"
   ]
  },
  {
   "cell_type": "code",
   "execution_count": 26,
   "metadata": {},
   "outputs": [
    {
     "data": {
      "text/html": [
       "<div>\n",
       "<style scoped>\n",
       "    .dataframe tbody tr th:only-of-type {\n",
       "        vertical-align: middle;\n",
       "    }\n",
       "\n",
       "    .dataframe tbody tr th {\n",
       "        vertical-align: top;\n",
       "    }\n",
       "\n",
       "    .dataframe thead th {\n",
       "        text-align: right;\n",
       "    }\n",
       "</style>\n",
       "<table border=\"1\" class=\"dataframe\">\n",
       "  <thead>\n",
       "    <tr style=\"text-align: right;\">\n",
       "      <th></th>\n",
       "      <th>name</th>\n",
       "      <th>platform</th>\n",
       "      <th>year_of_release</th>\n",
       "      <th>genre</th>\n",
       "      <th>na_sales</th>\n",
       "      <th>eu_sales</th>\n",
       "      <th>jp_sales</th>\n",
       "      <th>other_sales</th>\n",
       "      <th>critic_score</th>\n",
       "      <th>user_score</th>\n",
       "      <th>rating</th>\n",
       "      <th>total_sales</th>\n",
       "    </tr>\n",
       "  </thead>\n",
       "  <tbody>\n",
       "    <tr>\n",
       "      <th>0</th>\n",
       "      <td>Wii Sports</td>\n",
       "      <td>Wii</td>\n",
       "      <td>2006</td>\n",
       "      <td>Sports</td>\n",
       "      <td>41.36</td>\n",
       "      <td>28.96</td>\n",
       "      <td>3.77</td>\n",
       "      <td>8.45</td>\n",
       "      <td>76.0</td>\n",
       "      <td>8.0</td>\n",
       "      <td>E</td>\n",
       "      <td>82.54</td>\n",
       "    </tr>\n",
       "    <tr>\n",
       "      <th>1</th>\n",
       "      <td>Super Mario Bros.</td>\n",
       "      <td>NES</td>\n",
       "      <td>1985</td>\n",
       "      <td>Platform</td>\n",
       "      <td>29.08</td>\n",
       "      <td>3.58</td>\n",
       "      <td>6.81</td>\n",
       "      <td>0.77</td>\n",
       "      <td>NaN</td>\n",
       "      <td>NaN</td>\n",
       "      <td>NaN</td>\n",
       "      <td>40.24</td>\n",
       "    </tr>\n",
       "    <tr>\n",
       "      <th>2</th>\n",
       "      <td>Mario Kart Wii</td>\n",
       "      <td>Wii</td>\n",
       "      <td>2008</td>\n",
       "      <td>Racing</td>\n",
       "      <td>15.68</td>\n",
       "      <td>12.76</td>\n",
       "      <td>3.79</td>\n",
       "      <td>3.29</td>\n",
       "      <td>82.0</td>\n",
       "      <td>8.3</td>\n",
       "      <td>E</td>\n",
       "      <td>35.52</td>\n",
       "    </tr>\n",
       "    <tr>\n",
       "      <th>3</th>\n",
       "      <td>Wii Sports Resort</td>\n",
       "      <td>Wii</td>\n",
       "      <td>2009</td>\n",
       "      <td>Sports</td>\n",
       "      <td>15.61</td>\n",
       "      <td>10.93</td>\n",
       "      <td>3.28</td>\n",
       "      <td>2.95</td>\n",
       "      <td>80.0</td>\n",
       "      <td>8.0</td>\n",
       "      <td>E</td>\n",
       "      <td>32.77</td>\n",
       "    </tr>\n",
       "    <tr>\n",
       "      <th>4</th>\n",
       "      <td>Pokemon Red/Pokemon Blue</td>\n",
       "      <td>GB</td>\n",
       "      <td>1996</td>\n",
       "      <td>Role-Playing</td>\n",
       "      <td>11.27</td>\n",
       "      <td>8.89</td>\n",
       "      <td>10.22</td>\n",
       "      <td>1.00</td>\n",
       "      <td>NaN</td>\n",
       "      <td>NaN</td>\n",
       "      <td>NaN</td>\n",
       "      <td>31.38</td>\n",
       "    </tr>\n",
       "  </tbody>\n",
       "</table>\n",
       "</div>"
      ],
      "text/plain": [
       "                       name platform  year_of_release         genre  na_sales  \\\n",
       "0                Wii Sports      Wii             2006        Sports     41.36   \n",
       "1         Super Mario Bros.      NES             1985      Platform     29.08   \n",
       "2            Mario Kart Wii      Wii             2008        Racing     15.68   \n",
       "3         Wii Sports Resort      Wii             2009        Sports     15.61   \n",
       "4  Pokemon Red/Pokemon Blue       GB             1996  Role-Playing     11.27   \n",
       "\n",
       "   eu_sales  jp_sales  other_sales  critic_score  user_score rating  \\\n",
       "0     28.96      3.77         8.45          76.0         8.0      E   \n",
       "1      3.58      6.81         0.77           NaN         NaN    NaN   \n",
       "2     12.76      3.79         3.29          82.0         8.3      E   \n",
       "3     10.93      3.28         2.95          80.0         8.0      E   \n",
       "4      8.89     10.22         1.00           NaN         NaN    NaN   \n",
       "\n",
       "   total_sales  \n",
       "0        82.54  \n",
       "1        40.24  \n",
       "2        35.52  \n",
       "3        32.77  \n",
       "4        31.38  "
      ]
     },
     "metadata": {},
     "output_type": "display_data"
    }
   ],
   "source": [
    "# Calcular las ventas totales\n",
    "\n",
    "df_games['total_sales'] = df_games['na_sales'] + df_games['jp_sales'] + df_games['eu_sales'] + df_games['other_sales']\n",
    "\n",
    "display(df_games.head())"
   ]
  },
  {
   "cell_type": "markdown",
   "metadata": {},
   "source": [
    "## Paso 3. Analiza los datos\n",
    "\n",
    "- Mira cuántos juegos fueron lanzados en diferentes años. ¿Son significativos los datos de cada período?\n",
    "- Observa cómo varían las ventas de una plataforma a otra. Elige las plataformas con las mayores ventas totales y construye una distribución basada en los datos de cada año. Busca las plataformas que solían ser populares pero que ahora no tienen ventas. ¿Cuánto tardan generalmente las nuevas plataformas en aparecer y las antiguas en desaparecer?\n",
    "- Determina para qué período debes tomar datos. Para hacerlo mira tus respuestas a las preguntas anteriores. Los datos deberían permitirte construir un modelo para 2017.\n",
    "- Trabaja solo con los datos que consideras relevantes. Ignora los datos de años anteriores.\n",
    "- ¿Qué plataformas son líderes en ventas? ¿Cuáles crecen y cuáles se reducen? Elige varias plataformas potencialmente rentables.\n",
    "- Crea un diagrama de caja para las ventas globales de todos los juegos, desglosados por plataforma. ¿Son significativas las diferencias en las ventas? ¿Qué sucede con las ventas promedio en varias plataformas? Describe tus hallazgos.\n",
    "- Mira cómo las reseñas de usuarios y profesionales afectan las ventas de una plataforma popular (tu elección). Crea un gráfico de dispersión y calcula la correlación entre las reseñas y las ventas. Saca conclusiones.\n",
    "- Teniendo en cuenta tus conclusiones compara las ventas de los mismos juegos en otras plataformas.\n",
    "- Echa un vistazo a la distribución general de los juegos por género. ¿Qué se puede decir de los géneros más rentables? ¿Puedes generalizar acerca de los géneros con ventas altas y bajas?"
   ]
  },
  {
   "cell_type": "markdown",
   "metadata": {},
   "source": [
    "Cuántos juegos fueron lanzados en diferentes años. ¿Son significativos los datos de cada período?"
   ]
  },
  {
   "cell_type": "code",
   "execution_count": 27,
   "metadata": {},
   "outputs": [
    {
     "data": {
      "text/html": [
       "<div>\n",
       "<style scoped>\n",
       "    .dataframe tbody tr th:only-of-type {\n",
       "        vertical-align: middle;\n",
       "    }\n",
       "\n",
       "    .dataframe tbody tr th {\n",
       "        vertical-align: top;\n",
       "    }\n",
       "\n",
       "    .dataframe thead th {\n",
       "        text-align: right;\n",
       "    }\n",
       "</style>\n",
       "<table border=\"1\" class=\"dataframe\">\n",
       "  <thead>\n",
       "    <tr style=\"text-align: right;\">\n",
       "      <th></th>\n",
       "      <th>year_of_release</th>\n",
       "      <th>name</th>\n",
       "    </tr>\n",
       "  </thead>\n",
       "  <tbody>\n",
       "    <tr>\n",
       "      <th>0</th>\n",
       "      <td>1980</td>\n",
       "      <td>9</td>\n",
       "    </tr>\n",
       "    <tr>\n",
       "      <th>1</th>\n",
       "      <td>1981</td>\n",
       "      <td>46</td>\n",
       "    </tr>\n",
       "    <tr>\n",
       "      <th>2</th>\n",
       "      <td>1982</td>\n",
       "      <td>36</td>\n",
       "    </tr>\n",
       "    <tr>\n",
       "      <th>3</th>\n",
       "      <td>1983</td>\n",
       "      <td>17</td>\n",
       "    </tr>\n",
       "    <tr>\n",
       "      <th>4</th>\n",
       "      <td>1984</td>\n",
       "      <td>14</td>\n",
       "    </tr>\n",
       "    <tr>\n",
       "      <th>5</th>\n",
       "      <td>1985</td>\n",
       "      <td>14</td>\n",
       "    </tr>\n",
       "    <tr>\n",
       "      <th>6</th>\n",
       "      <td>1986</td>\n",
       "      <td>21</td>\n",
       "    </tr>\n",
       "    <tr>\n",
       "      <th>7</th>\n",
       "      <td>1987</td>\n",
       "      <td>16</td>\n",
       "    </tr>\n",
       "    <tr>\n",
       "      <th>8</th>\n",
       "      <td>1988</td>\n",
       "      <td>15</td>\n",
       "    </tr>\n",
       "    <tr>\n",
       "      <th>9</th>\n",
       "      <td>1989</td>\n",
       "      <td>17</td>\n",
       "    </tr>\n",
       "    <tr>\n",
       "      <th>10</th>\n",
       "      <td>1990</td>\n",
       "      <td>16</td>\n",
       "    </tr>\n",
       "    <tr>\n",
       "      <th>11</th>\n",
       "      <td>1991</td>\n",
       "      <td>41</td>\n",
       "    </tr>\n",
       "    <tr>\n",
       "      <th>12</th>\n",
       "      <td>1992</td>\n",
       "      <td>43</td>\n",
       "    </tr>\n",
       "    <tr>\n",
       "      <th>13</th>\n",
       "      <td>1993</td>\n",
       "      <td>62</td>\n",
       "    </tr>\n",
       "    <tr>\n",
       "      <th>14</th>\n",
       "      <td>1994</td>\n",
       "      <td>121</td>\n",
       "    </tr>\n",
       "    <tr>\n",
       "      <th>15</th>\n",
       "      <td>1995</td>\n",
       "      <td>219</td>\n",
       "    </tr>\n",
       "    <tr>\n",
       "      <th>16</th>\n",
       "      <td>1996</td>\n",
       "      <td>263</td>\n",
       "    </tr>\n",
       "    <tr>\n",
       "      <th>17</th>\n",
       "      <td>1997</td>\n",
       "      <td>289</td>\n",
       "    </tr>\n",
       "    <tr>\n",
       "      <th>18</th>\n",
       "      <td>1998</td>\n",
       "      <td>379</td>\n",
       "    </tr>\n",
       "    <tr>\n",
       "      <th>19</th>\n",
       "      <td>1999</td>\n",
       "      <td>338</td>\n",
       "    </tr>\n",
       "    <tr>\n",
       "      <th>20</th>\n",
       "      <td>2000</td>\n",
       "      <td>350</td>\n",
       "    </tr>\n",
       "    <tr>\n",
       "      <th>21</th>\n",
       "      <td>2001</td>\n",
       "      <td>482</td>\n",
       "    </tr>\n",
       "    <tr>\n",
       "      <th>22</th>\n",
       "      <td>2002</td>\n",
       "      <td>829</td>\n",
       "    </tr>\n",
       "    <tr>\n",
       "      <th>23</th>\n",
       "      <td>2003</td>\n",
       "      <td>775</td>\n",
       "    </tr>\n",
       "    <tr>\n",
       "      <th>24</th>\n",
       "      <td>2004</td>\n",
       "      <td>762</td>\n",
       "    </tr>\n",
       "    <tr>\n",
       "      <th>25</th>\n",
       "      <td>2005</td>\n",
       "      <td>939</td>\n",
       "    </tr>\n",
       "    <tr>\n",
       "      <th>26</th>\n",
       "      <td>2006</td>\n",
       "      <td>1006</td>\n",
       "    </tr>\n",
       "    <tr>\n",
       "      <th>27</th>\n",
       "      <td>2007</td>\n",
       "      <td>1197</td>\n",
       "    </tr>\n",
       "    <tr>\n",
       "      <th>28</th>\n",
       "      <td>2008</td>\n",
       "      <td>1427</td>\n",
       "    </tr>\n",
       "    <tr>\n",
       "      <th>29</th>\n",
       "      <td>2009</td>\n",
       "      <td>1426</td>\n",
       "    </tr>\n",
       "    <tr>\n",
       "      <th>30</th>\n",
       "      <td>2010</td>\n",
       "      <td>1255</td>\n",
       "    </tr>\n",
       "    <tr>\n",
       "      <th>31</th>\n",
       "      <td>2011</td>\n",
       "      <td>1136</td>\n",
       "    </tr>\n",
       "    <tr>\n",
       "      <th>32</th>\n",
       "      <td>2012</td>\n",
       "      <td>653</td>\n",
       "    </tr>\n",
       "    <tr>\n",
       "      <th>33</th>\n",
       "      <td>2013</td>\n",
       "      <td>544</td>\n",
       "    </tr>\n",
       "    <tr>\n",
       "      <th>34</th>\n",
       "      <td>2014</td>\n",
       "      <td>581</td>\n",
       "    </tr>\n",
       "    <tr>\n",
       "      <th>35</th>\n",
       "      <td>2015</td>\n",
       "      <td>606</td>\n",
       "    </tr>\n",
       "    <tr>\n",
       "      <th>36</th>\n",
       "      <td>2016</td>\n",
       "      <td>502</td>\n",
       "    </tr>\n",
       "  </tbody>\n",
       "</table>\n",
       "</div>"
      ],
      "text/plain": [
       "    year_of_release  name\n",
       "0              1980     9\n",
       "1              1981    46\n",
       "2              1982    36\n",
       "3              1983    17\n",
       "4              1984    14\n",
       "5              1985    14\n",
       "6              1986    21\n",
       "7              1987    16\n",
       "8              1988    15\n",
       "9              1989    17\n",
       "10             1990    16\n",
       "11             1991    41\n",
       "12             1992    43\n",
       "13             1993    62\n",
       "14             1994   121\n",
       "15             1995   219\n",
       "16             1996   263\n",
       "17             1997   289\n",
       "18             1998   379\n",
       "19             1999   338\n",
       "20             2000   350\n",
       "21             2001   482\n",
       "22             2002   829\n",
       "23             2003   775\n",
       "24             2004   762\n",
       "25             2005   939\n",
       "26             2006  1006\n",
       "27             2007  1197\n",
       "28             2008  1427\n",
       "29             2009  1426\n",
       "30             2010  1255\n",
       "31             2011  1136\n",
       "32             2012   653\n",
       "33             2013   544\n",
       "34             2014   581\n",
       "35             2015   606\n",
       "36             2016   502"
      ]
     },
     "metadata": {},
     "output_type": "display_data"
    },
    {
     "data": {
      "image/png": "[encoded data removed]",
      "text/plain": [
       "<Figure size 1000x700 with 1 Axes>"
      ]
     },
     "metadata": {},
     "output_type": "display_data"
    }
   ],
   "source": [
    "games_per_year = df_games.groupby('year_of_release')['name'].count().reset_index()\n",
    "\n",
    "display(games_per_year)\n",
    "\n",
    "\n",
    "\n",
    "games_per_year.plot(kind='bar', x = 'year_of_release', y = 'name', figsize=(10, 7))\n",
    "plt.title('Número de juegos lanzados por año')\n",
    "plt.xlabel('Año')\n",
    "plt.ylabel('Número de Juegos')\n",
    "plt.xticks(rotation=45)  \n",
    "plt.grid(axis='y', alpha=0.7)\n",
    "plt.tight_layout()\n",
    "plt.show()\n"
   ]
  },
  {
   "cell_type": "markdown",
   "metadata": {},
   "source": [
    "En esta gráfica se observa que hay valores en el año cero, lo más probable es que se deba a un error, por lo que se el análisis se va a limitar desde el año 1980 hasta el 2016.\n",
    "\n",
    "Entre los años 1980 y 1994 los datos no son relevantes, durante estos años los lanzamientos de juegos no sobre pasaron las 200 unidades. \n",
    "\n",
    "A partir del año 1995 se ve un rompimiento de la barrera de los 200 juegos lanzados y posteriormente tuvo un incremento exponencial hasta llegar a su valor máximo en durante los años 2008 y 2009, para después tener una caída, notandose más entre el año 2010 y 2011 en donde el lanzamiento de juegos se redujo casi a la mitad.\n",
    "\n",
    "Esto se puede deber a que en dichos años a nivel mundial estaban ocurriendo lanzamientos importantes a nivel del internet, como las redes sociales por lo que podría haber opacado el lanzamiento de nuevos juegos."
   ]
  },
  {
   "cell_type": "markdown",
   "metadata": {},
   "source": [
    "Observa cómo varían las ventas de una plataforma a otra. Elige las plataformas con las mayores ventas totales y construye una distribución basada en los datos de cada año. Busca las plataformas que solían ser populares pero que ahora no tienen ventas. ¿Cuánto tardan generalmente las nuevas plataformas en aparecer y las antiguas en desaparecer?"
   ]
  },
  {
   "cell_type": "code",
   "execution_count": 28,
   "metadata": {},
   "outputs": [
    {
     "data": {
      "text/plain": [
       "<AxesSubplot:title={'center':'Ventas totales de cada plataforma'}, xlabel='Plataforma', ylabel='Total ventas'>"
      ]
     },
     "execution_count": 28,
     "metadata": {},
     "output_type": "execute_result"
    },
    {
     "data": {
      "image/png": "[encoded data removed]",
      "text/plain": [
       "<Figure size 1200x800 with 1 Axes>"
      ]
     },
     "metadata": {},
     "output_type": "display_data"
    }
   ],
   "source": [
    "# Ventas totales en cada plataforma\n",
    "\n",
    "\n",
    "df_games.groupby('platform')['total_sales'].sum().sort_values(ascending = False).plot(kind = 'bar', figsize=(12, 8), title = 'Ventas totales de cada plataforma',xlabel = 'Plataforma', ylabel = 'Total ventas' )"
   ]
  },
  {
   "cell_type": "markdown",
   "metadata": {},
   "source": [
    "Del grafico se puede observar que la plataforma con mayor registro en cantidad de ventas fue el PS2, seguido del X360. "
   ]
  },
  {
   "cell_type": "code",
   "execution_count": 29,
   "metadata": {},
   "outputs": [
    {
     "data": {
      "text/html": [
       "<div>\n",
       "<style scoped>\n",
       "    .dataframe tbody tr th:only-of-type {\n",
       "        vertical-align: middle;\n",
       "    }\n",
       "\n",
       "    .dataframe tbody tr th {\n",
       "        vertical-align: top;\n",
       "    }\n",
       "\n",
       "    .dataframe thead th {\n",
       "        text-align: right;\n",
       "    }\n",
       "</style>\n",
       "<table border=\"1\" class=\"dataframe\">\n",
       "  <thead>\n",
       "    <tr style=\"text-align: right;\">\n",
       "      <th></th>\n",
       "      <th>total_sales</th>\n",
       "    </tr>\n",
       "    <tr>\n",
       "      <th>platform</th>\n",
       "      <th></th>\n",
       "    </tr>\n",
       "  </thead>\n",
       "  <tbody>\n",
       "    <tr>\n",
       "      <th>PS2</th>\n",
       "      <td>1233.56</td>\n",
       "    </tr>\n",
       "    <tr>\n",
       "      <th>X360</th>\n",
       "      <td>961.24</td>\n",
       "    </tr>\n",
       "    <tr>\n",
       "      <th>PS3</th>\n",
       "      <td>931.34</td>\n",
       "    </tr>\n",
       "    <tr>\n",
       "      <th>Wii</th>\n",
       "      <td>891.18</td>\n",
       "    </tr>\n",
       "    <tr>\n",
       "      <th>DS</th>\n",
       "      <td>802.78</td>\n",
       "    </tr>\n",
       "  </tbody>\n",
       "</table>\n",
       "</div>"
      ],
      "text/plain": [
       "          total_sales\n",
       "platform             \n",
       "PS2           1233.56\n",
       "X360           961.24\n",
       "PS3            931.34\n",
       "Wii            891.18\n",
       "DS             802.78"
      ]
     },
     "metadata": {},
     "output_type": "display_data"
    }
   ],
   "source": [
    "# 5 plataformas con mayores ventas totales\n",
    "total_sales_platform = df_games.pivot_table(index = 'platform', values = 'total_sales', aggfunc = 'sum')\n",
    "total_sales_platform = total_sales_platform.sort_values(by = 'total_sales', ascending = False).head(5)\n",
    "display(total_sales_platform)"
   ]
  },
  {
   "cell_type": "code",
   "execution_count": 30,
   "metadata": {},
   "outputs": [
    {
     "data": {
      "text/plain": [
       "array(['Wii', 'DS', 'X360', 'PS3', 'PS2'], dtype=object)"
      ]
     },
     "execution_count": 30,
     "metadata": {},
     "output_type": "execute_result"
    }
   ],
   "source": [
    "# Distribución basada en los datos de cada año\n",
    "platform_list = ['PS2', 'X360', 'PS3', 'Wii', 'DS']\n",
    "df_games_2 = df_games[df_games['platform'].isin(platform_list)]\n",
    "df_games_2['platform'].unique()"
   ]
  },
  {
   "cell_type": "code",
   "execution_count": 31,
   "metadata": {},
   "outputs": [
    {
     "data": {
      "text/html": [
       "<div>\n",
       "<style scoped>\n",
       "    .dataframe tbody tr th:only-of-type {\n",
       "        vertical-align: middle;\n",
       "    }\n",
       "\n",
       "    .dataframe tbody tr th {\n",
       "        vertical-align: top;\n",
       "    }\n",
       "\n",
       "    .dataframe thead th {\n",
       "        text-align: right;\n",
       "    }\n",
       "</style>\n",
       "<table border=\"1\" class=\"dataframe\">\n",
       "  <thead>\n",
       "    <tr style=\"text-align: right;\">\n",
       "      <th></th>\n",
       "      <th>year_of_release</th>\n",
       "      <th>platform</th>\n",
       "      <th>total_sales</th>\n",
       "    </tr>\n",
       "  </thead>\n",
       "  <tbody>\n",
       "    <tr>\n",
       "      <th>0</th>\n",
       "      <td>1985</td>\n",
       "      <td>DS</td>\n",
       "      <td>0.02</td>\n",
       "    </tr>\n",
       "    <tr>\n",
       "      <th>1</th>\n",
       "      <td>2000</td>\n",
       "      <td>PS2</td>\n",
       "      <td>39.17</td>\n",
       "    </tr>\n",
       "    <tr>\n",
       "      <th>2</th>\n",
       "      <td>2001</td>\n",
       "      <td>PS2</td>\n",
       "      <td>166.43</td>\n",
       "    </tr>\n",
       "    <tr>\n",
       "      <th>3</th>\n",
       "      <td>2002</td>\n",
       "      <td>PS2</td>\n",
       "      <td>205.38</td>\n",
       "    </tr>\n",
       "    <tr>\n",
       "      <th>4</th>\n",
       "      <td>2003</td>\n",
       "      <td>PS2</td>\n",
       "      <td>184.31</td>\n",
       "    </tr>\n",
       "  </tbody>\n",
       "</table>\n",
       "</div>"
      ],
      "text/plain": [
       "   year_of_release platform  total_sales\n",
       "0             1985       DS         0.02\n",
       "1             2000      PS2        39.17\n",
       "2             2001      PS2       166.43\n",
       "3             2002      PS2       205.38\n",
       "4             2003      PS2       184.31"
      ]
     },
     "execution_count": 31,
     "metadata": {},
     "output_type": "execute_result"
    }
   ],
   "source": [
    "platform_list = df_games_2.groupby(['year_of_release', 'platform'])['total_sales'].sum().reset_index()\n",
    "platform_list.head()"
   ]
  },
  {
   "cell_type": "code",
   "execution_count": 32,
   "metadata": {},
   "outputs": [
    {
     "data": {
      "text/plain": [
       "<AxesSubplot:xlabel='year_of_release', ylabel='total_sales'>"
      ]
     },
     "execution_count": 32,
     "metadata": {},
     "output_type": "execute_result"
    },
    {
     "data": {
      "image/png": "[encoded data removed]",
      "text/plain": [
       "<Figure size 640x480 with 1 Axes>"
      ]
     },
     "metadata": {},
     "output_type": "display_data"
    }
   ],
   "source": [
    "sns.lineplot(data = platform_list, hue = 'platform', x = 'year_of_release', y = 'total_sales')"
   ]
  },
  {
   "cell_type": "markdown",
   "metadata": {},
   "source": [
    "- Los años entre 1985 y 2000 no son relevantes puesto que no hay datos de las otras consolas\n",
    "- Las nuevas plataformas tardan en promedio entre 3 y 5 años entre una plataforma y la otra\n",
    "- Se puede observar que una de las plataformas que solía ser popular durante los años del 2006 al 2009 era el Wii, sin embargo en los últimos años no presenta ventas significativas, al igual que el DS y el PS3"
   ]
  },
  {
   "cell_type": "code",
   "execution_count": 33,
   "metadata": {},
   "outputs": [
    {
     "data": {
      "text/html": [
       "<div>\n",
       "<style scoped>\n",
       "    .dataframe tbody tr th:only-of-type {\n",
       "        vertical-align: middle;\n",
       "    }\n",
       "\n",
       "    .dataframe tbody tr th {\n",
       "        vertical-align: top;\n",
       "    }\n",
       "\n",
       "    .dataframe thead th {\n",
       "        text-align: right;\n",
       "    }\n",
       "</style>\n",
       "<table border=\"1\" class=\"dataframe\">\n",
       "  <thead>\n",
       "    <tr style=\"text-align: right;\">\n",
       "      <th></th>\n",
       "      <th>Platform</th>\n",
       "      <th>First_Year</th>\n",
       "      <th>Last_Year</th>\n",
       "      <th>Years_On_Market</th>\n",
       "    </tr>\n",
       "  </thead>\n",
       "  <tbody>\n",
       "    <tr>\n",
       "      <th>0</th>\n",
       "      <td>PS2</td>\n",
       "      <td>2000</td>\n",
       "      <td>2011</td>\n",
       "      <td>11</td>\n",
       "    </tr>\n",
       "    <tr>\n",
       "      <th>1</th>\n",
       "      <td>X360</td>\n",
       "      <td>2005</td>\n",
       "      <td>2016</td>\n",
       "      <td>11</td>\n",
       "    </tr>\n",
       "    <tr>\n",
       "      <th>2</th>\n",
       "      <td>PS3</td>\n",
       "      <td>2006</td>\n",
       "      <td>2016</td>\n",
       "      <td>10</td>\n",
       "    </tr>\n",
       "    <tr>\n",
       "      <th>3</th>\n",
       "      <td>Wii</td>\n",
       "      <td>2006</td>\n",
       "      <td>2016</td>\n",
       "      <td>10</td>\n",
       "    </tr>\n",
       "    <tr>\n",
       "      <th>4</th>\n",
       "      <td>DS</td>\n",
       "      <td>1985</td>\n",
       "      <td>2013</td>\n",
       "      <td>28</td>\n",
       "    </tr>\n",
       "  </tbody>\n",
       "</table>\n",
       "</div>"
      ],
      "text/plain": [
       "  Platform  First_Year  Last_Year  Years_On_Market\n",
       "0      PS2        2000       2011               11\n",
       "1     X360        2005       2016               11\n",
       "2      PS3        2006       2016               10\n",
       "3      Wii        2006       2016               10\n",
       "4       DS        1985       2013               28"
      ]
     },
     "metadata": {},
     "output_type": "display_data"
    }
   ],
   "source": [
    "# Años que tardan las consolas en aparecer y desaparecer\n",
    "platform_list_2 = ['PS2', 'X360', 'PS3', 'Wii', 'DS']\n",
    "\n",
    "platform_years_list = []\n",
    "\n",
    "# Años que tardan las consolas en aparecer y desaparecer\n",
    "for platform in platform_list_2:\n",
    "    platform_data = df_games[df_games['platform'] == platform]\n",
    "    \n",
    "    first_year = platform_data['year_of_release'].min()\n",
    "    last_year = platform_data['year_of_release'].max()\n",
    "    \n",
    "    # Calcular años en el mercado\n",
    "    years_on_market = last_year - first_year \n",
    "    \n",
    "    # Agregar los resultados a la lista\n",
    "    platform_years_list.append({'Platform': platform,\n",
    "                                'First_Year': first_year,\n",
    "                                'Last_Year': last_year,\n",
    "                                'Years_On_Market': years_on_market})\n",
    "\n",
    "# Convertir la lista en un DataFrame\n",
    "df_platform_years = pd.DataFrame(platform_years_list)\n",
    "\n",
    "# Mostrar los resultados\n",
    "display(df_platform_years)\n",
    "    "
   ]
  },
  {
   "cell_type": "markdown",
   "metadata": {},
   "source": [
    "Con estos datos y la grafica anterior se puede concluir que la mayoria de plataformas una vez son lanzadas y llegan a su pico en 5 años aproximadamente y desaparecen a los 5 años, se podría tomar un valor entre 3 y 5 años"
   ]
  },
  {
   "cell_type": "code",
   "execution_count": 34,
   "metadata": {},
   "outputs": [],
   "source": [
    "  platform_years_list.append({'Platform': platform,\n",
    "                                'First_Year': first_year,\n",
    "                                'Last_Year': last_year,\n",
    "                                'Years_On_Market': years_on_market})\n",
    "    \n",
    "# Construir el DataFrame a partir de la lista de resultados\n",
    "platform_years = pd.DataFrame(platform_years_list)"
   ]
  },
  {
   "cell_type": "markdown",
   "metadata": {},
   "source": [
    "### Determina para qué período debes tomar datos. Para hacerlo mira tus respuestas a las preguntas anteriores. Los datos deberían permitirte construir un modelo para 2017.\n",
    "\n",
    "Según lo anterior se deben de tener en cuenta los últimos 5 años, por lo que sería el periodo del 2012 al 2016"
   ]
  },
  {
   "cell_type": "markdown",
   "metadata": {},
   "source": [
    "#### Filtrar datos para trabajar solo con los últimos 5 años"
   ]
  },
  {
   "cell_type": "code",
   "execution_count": 35,
   "metadata": {},
   "outputs": [
    {
     "data": {
      "text/html": [
       "<div>\n",
       "<style scoped>\n",
       "    .dataframe tbody tr th:only-of-type {\n",
       "        vertical-align: middle;\n",
       "    }\n",
       "\n",
       "    .dataframe tbody tr th {\n",
       "        vertical-align: top;\n",
       "    }\n",
       "\n",
       "    .dataframe thead th {\n",
       "        text-align: right;\n",
       "    }\n",
       "</style>\n",
       "<table border=\"1\" class=\"dataframe\">\n",
       "  <thead>\n",
       "    <tr style=\"text-align: right;\">\n",
       "      <th></th>\n",
       "      <th>platform</th>\n",
       "      <th>total_sales</th>\n",
       "      <th>year_of_release</th>\n",
       "      <th>name</th>\n",
       "      <th>user_score</th>\n",
       "      <th>critic_score</th>\n",
       "      <th>genre</th>\n",
       "      <th>rating</th>\n",
       "      <th>eu_sales</th>\n",
       "      <th>jp_sales</th>\n",
       "      <th>na_sales</th>\n",
       "      <th>other_sales</th>\n",
       "    </tr>\n",
       "  </thead>\n",
       "  <tbody>\n",
       "    <tr>\n",
       "      <th>16</th>\n",
       "      <td>PS3</td>\n",
       "      <td>21.05</td>\n",
       "      <td>2013</td>\n",
       "      <td>Grand Theft Auto V</td>\n",
       "      <td>8.2</td>\n",
       "      <td>97.0</td>\n",
       "      <td>Action</td>\n",
       "      <td>M</td>\n",
       "      <td>9.09</td>\n",
       "      <td>0.98</td>\n",
       "      <td>7.02</td>\n",
       "      <td>3.96</td>\n",
       "    </tr>\n",
       "    <tr>\n",
       "      <th>23</th>\n",
       "      <td>X360</td>\n",
       "      <td>16.27</td>\n",
       "      <td>2013</td>\n",
       "      <td>Grand Theft Auto V</td>\n",
       "      <td>8.1</td>\n",
       "      <td>97.0</td>\n",
       "      <td>Action</td>\n",
       "      <td>M</td>\n",
       "      <td>5.14</td>\n",
       "      <td>0.06</td>\n",
       "      <td>9.66</td>\n",
       "      <td>1.41</td>\n",
       "    </tr>\n",
       "    <tr>\n",
       "      <th>29</th>\n",
       "      <td>X360</td>\n",
       "      <td>14.73</td>\n",
       "      <td>2011</td>\n",
       "      <td>Call of Duty: Modern Warfare 3</td>\n",
       "      <td>3.4</td>\n",
       "      <td>88.0</td>\n",
       "      <td>Shooter</td>\n",
       "      <td>M</td>\n",
       "      <td>4.24</td>\n",
       "      <td>0.13</td>\n",
       "      <td>9.04</td>\n",
       "      <td>1.32</td>\n",
       "    </tr>\n",
       "    <tr>\n",
       "      <th>31</th>\n",
       "      <td>PS4</td>\n",
       "      <td>14.63</td>\n",
       "      <td>2015</td>\n",
       "      <td>Call of Duty: Black Ops 3</td>\n",
       "      <td>NaN</td>\n",
       "      <td>NaN</td>\n",
       "      <td>Shooter</td>\n",
       "      <td>NaN</td>\n",
       "      <td>5.86</td>\n",
       "      <td>0.36</td>\n",
       "      <td>6.03</td>\n",
       "      <td>2.38</td>\n",
       "    </tr>\n",
       "    <tr>\n",
       "      <th>33</th>\n",
       "      <td>3DS</td>\n",
       "      <td>14.60</td>\n",
       "      <td>2013</td>\n",
       "      <td>Pokemon X/Pokemon Y</td>\n",
       "      <td>NaN</td>\n",
       "      <td>NaN</td>\n",
       "      <td>Role-Playing</td>\n",
       "      <td>NaN</td>\n",
       "      <td>4.19</td>\n",
       "      <td>4.35</td>\n",
       "      <td>5.28</td>\n",
       "      <td>0.78</td>\n",
       "    </tr>\n",
       "    <tr>\n",
       "      <th>...</th>\n",
       "      <td>...</td>\n",
       "      <td>...</td>\n",
       "      <td>...</td>\n",
       "      <td>...</td>\n",
       "      <td>...</td>\n",
       "      <td>...</td>\n",
       "      <td>...</td>\n",
       "      <td>...</td>\n",
       "      <td>...</td>\n",
       "      <td>...</td>\n",
       "      <td>...</td>\n",
       "      <td>...</td>\n",
       "    </tr>\n",
       "    <tr>\n",
       "      <th>16265</th>\n",
       "      <td>PSP</td>\n",
       "      <td>0.01</td>\n",
       "      <td>2012</td>\n",
       "      <td>Ouka Sengoku Portable</td>\n",
       "      <td>NaN</td>\n",
       "      <td>NaN</td>\n",
       "      <td>Adventure</td>\n",
       "      <td>NaN</td>\n",
       "      <td>0.00</td>\n",
       "      <td>0.01</td>\n",
       "      <td>0.00</td>\n",
       "      <td>0.00</td>\n",
       "    </tr>\n",
       "    <tr>\n",
       "      <th>16267</th>\n",
       "      <td>WiiU</td>\n",
       "      <td>0.01</td>\n",
       "      <td>2016</td>\n",
       "      <td>The Book of Unwritten Tales 2</td>\n",
       "      <td>NaN</td>\n",
       "      <td>NaN</td>\n",
       "      <td>Adventure</td>\n",
       "      <td>T</td>\n",
       "      <td>0.01</td>\n",
       "      <td>0.00</td>\n",
       "      <td>0.00</td>\n",
       "      <td>0.00</td>\n",
       "    </tr>\n",
       "    <tr>\n",
       "      <th>16268</th>\n",
       "      <td>PC</td>\n",
       "      <td>0.01</td>\n",
       "      <td>2011</td>\n",
       "      <td>Dark Parables: The Exiled Prince</td>\n",
       "      <td>NaN</td>\n",
       "      <td>NaN</td>\n",
       "      <td>Puzzle</td>\n",
       "      <td>E10+</td>\n",
       "      <td>0.01</td>\n",
       "      <td>0.00</td>\n",
       "      <td>0.00</td>\n",
       "      <td>0.00</td>\n",
       "    </tr>\n",
       "    <tr>\n",
       "      <th>16270</th>\n",
       "      <td>PSV</td>\n",
       "      <td>0.01</td>\n",
       "      <td>2015</td>\n",
       "      <td>Hyakka Yakou</td>\n",
       "      <td>NaN</td>\n",
       "      <td>NaN</td>\n",
       "      <td>Action</td>\n",
       "      <td>NaN</td>\n",
       "      <td>0.00</td>\n",
       "      <td>0.01</td>\n",
       "      <td>0.00</td>\n",
       "      <td>0.00</td>\n",
       "    </tr>\n",
       "    <tr>\n",
       "      <th>16714</th>\n",
       "      <td>PSV</td>\n",
       "      <td>0.01</td>\n",
       "      <td>2016</td>\n",
       "      <td>Winning Post 8 2016</td>\n",
       "      <td>NaN</td>\n",
       "      <td>NaN</td>\n",
       "      <td>Simulation</td>\n",
       "      <td>NaN</td>\n",
       "      <td>0.00</td>\n",
       "      <td>0.01</td>\n",
       "      <td>0.00</td>\n",
       "      <td>0.00</td>\n",
       "    </tr>\n",
       "  </tbody>\n",
       "</table>\n",
       "<p>4022 rows × 12 columns</p>\n",
       "</div>"
      ],
      "text/plain": [
       "      platform  total_sales  year_of_release  \\\n",
       "16         PS3        21.05             2013   \n",
       "23        X360        16.27             2013   \n",
       "29        X360        14.73             2011   \n",
       "31         PS4        14.63             2015   \n",
       "33         3DS        14.60             2013   \n",
       "...        ...          ...              ...   \n",
       "16265      PSP         0.01             2012   \n",
       "16267     WiiU         0.01             2016   \n",
       "16268       PC         0.01             2011   \n",
       "16270      PSV         0.01             2015   \n",
       "16714      PSV         0.01             2016   \n",
       "\n",
       "                                   name  user_score  critic_score  \\\n",
       "16                   Grand Theft Auto V         8.2          97.0   \n",
       "23                   Grand Theft Auto V         8.1          97.0   \n",
       "29       Call of Duty: Modern Warfare 3         3.4          88.0   \n",
       "31            Call of Duty: Black Ops 3         NaN           NaN   \n",
       "33                  Pokemon X/Pokemon Y         NaN           NaN   \n",
       "...                                 ...         ...           ...   \n",
       "16265             Ouka Sengoku Portable         NaN           NaN   \n",
       "16267     The Book of Unwritten Tales 2         NaN           NaN   \n",
       "16268  Dark Parables: The Exiled Prince         NaN           NaN   \n",
       "16270                      Hyakka Yakou         NaN           NaN   \n",
       "16714               Winning Post 8 2016         NaN           NaN   \n",
       "\n",
       "              genre rating  eu_sales  jp_sales  na_sales  other_sales  \n",
       "16           Action      M      9.09      0.98      7.02         3.96  \n",
       "23           Action      M      5.14      0.06      9.66         1.41  \n",
       "29          Shooter      M      4.24      0.13      9.04         1.32  \n",
       "31          Shooter    NaN      5.86      0.36      6.03         2.38  \n",
       "33     Role-Playing    NaN      4.19      4.35      5.28         0.78  \n",
       "...             ...    ...       ...       ...       ...          ...  \n",
       "16265     Adventure    NaN      0.00      0.01      0.00         0.00  \n",
       "16267     Adventure      T      0.01      0.00      0.00         0.00  \n",
       "16268        Puzzle   E10+      0.01      0.00      0.00         0.00  \n",
       "16270        Action    NaN      0.00      0.01      0.00         0.00  \n",
       "16714    Simulation    NaN      0.00      0.01      0.00         0.00  \n",
       "\n",
       "[4022 rows x 12 columns]"
      ]
     },
     "metadata": {},
     "output_type": "display_data"
    }
   ],
   "source": [
    "# Filtrar datos para trabajar solo con los últimos 5 años\n",
    "\n",
    "df_games_5_years = df_games[df_games['year_of_release'] >= 2011][['platform', 'total_sales', 'year_of_release', 'name', 'user_score', 'critic_score', 'genre', 'rating', 'eu_sales', 'jp_sales', 'na_sales', 'other_sales']].sort_values(by = 'total_sales', ascending = False)\n",
    "\n",
    "display(df_games_5_years)\n"
   ]
  },
  {
   "cell_type": "markdown",
   "metadata": {},
   "source": [
    "### ¿Qué plataformas son líderes en ventas? ¿Cuáles crecen y cuáles se reducen? Elige varias plataformas potencialmente rentables."
   ]
  },
  {
   "cell_type": "markdown",
   "metadata": {},
   "source": [
    "#### 5 plataformas con mayores ventas totales"
   ]
  },
  {
   "cell_type": "code",
   "execution_count": 36,
   "metadata": {},
   "outputs": [
    {
     "data": {
      "text/html": [
       "<div>\n",
       "<style scoped>\n",
       "    .dataframe tbody tr th:only-of-type {\n",
       "        vertical-align: middle;\n",
       "    }\n",
       "\n",
       "    .dataframe tbody tr th {\n",
       "        vertical-align: top;\n",
       "    }\n",
       "\n",
       "    .dataframe thead th {\n",
       "        text-align: right;\n",
       "    }\n",
       "</style>\n",
       "<table border=\"1\" class=\"dataframe\">\n",
       "  <thead>\n",
       "    <tr style=\"text-align: right;\">\n",
       "      <th></th>\n",
       "      <th>platform</th>\n",
       "      <th>total_sales</th>\n",
       "      <th>eu_sales</th>\n",
       "      <th>jp_sales</th>\n",
       "      <th>na_sales</th>\n",
       "      <th>other_sales</th>\n",
       "    </tr>\n",
       "  </thead>\n",
       "  <tbody>\n",
       "    <tr>\n",
       "      <th>4</th>\n",
       "      <td>PS3</td>\n",
       "      <td>445.57</td>\n",
       "      <td>163.10</td>\n",
       "      <td>49.39</td>\n",
       "      <td>168.26</td>\n",
       "      <td>64.82</td>\n",
       "    </tr>\n",
       "    <tr>\n",
       "      <th>0</th>\n",
       "      <td>3DS</td>\n",
       "      <td>257.81</td>\n",
       "      <td>61.27</td>\n",
       "      <td>100.62</td>\n",
       "      <td>82.65</td>\n",
       "      <td>13.27</td>\n",
       "    </tr>\n",
       "    <tr>\n",
       "      <th>2</th>\n",
       "      <td>PC</td>\n",
       "      <td>97.68</td>\n",
       "      <td>56.70</td>\n",
       "      <td>0.00</td>\n",
       "      <td>29.88</td>\n",
       "      <td>11.10</td>\n",
       "    </tr>\n",
       "    <tr>\n",
       "      <th>1</th>\n",
       "      <td>DS</td>\n",
       "      <td>38.73</td>\n",
       "      <td>9.24</td>\n",
       "      <td>8.04</td>\n",
       "      <td>18.86</td>\n",
       "      <td>2.59</td>\n",
       "    </tr>\n",
       "    <tr>\n",
       "      <th>3</th>\n",
       "      <td>PS2</td>\n",
       "      <td>0.45</td>\n",
       "      <td>0.13</td>\n",
       "      <td>0.09</td>\n",
       "      <td>0.13</td>\n",
       "      <td>0.10</td>\n",
       "    </tr>\n",
       "  </tbody>\n",
       "</table>\n",
       "</div>"
      ],
      "text/plain": [
       "  platform  total_sales  eu_sales  jp_sales  na_sales  other_sales\n",
       "4      PS3       445.57    163.10     49.39    168.26        64.82\n",
       "0      3DS       257.81     61.27    100.62     82.65        13.27\n",
       "2       PC        97.68     56.70      0.00     29.88        11.10\n",
       "1       DS        38.73      9.24      8.04     18.86         2.59\n",
       "3      PS2         0.45      0.13      0.09      0.13         0.10"
      ]
     },
     "metadata": {},
     "output_type": "display_data"
    }
   ],
   "source": [
    "# 5 plataformas con mayores ventas totales\n",
    "total_sales_platform_5_years = df_games_5_years.groupby('platform')[['total_sales', 'eu_sales', 'jp_sales', 'na_sales', 'other_sales']].sum().reset_index()\n",
    "\n",
    "top_platform_5_years = total_sales_platform_5_years.head(5).sort_values(by = 'total_sales', ascending = False)\n",
    "\n",
    "display(top_platform_5_years)"
   ]
  },
  {
   "cell_type": "code",
   "execution_count": 37,
   "metadata": {},
   "outputs": [
    {
     "data": {
      "text/plain": [
       "<AxesSubplot:title={'center':'Ventas totales de cada plataforma en los últimos años'}, xlabel='Plataforma', ylabel='Total ventas'>"
      ]
     },
     "execution_count": 37,
     "metadata": {},
     "output_type": "execute_result"
    },
    {
     "data": {
      "image/png": "[encoded data removed]",
      "text/plain": [
       "<Figure size 1200x800 with 1 Axes>"
      ]
     },
     "metadata": {},
     "output_type": "display_data"
    }
   ],
   "source": [
    "top_platform_5_years.plot(kind = 'bar', figsize=(12, 8), title = 'Ventas totales de cada plataforma en los últimos años', x = 'platform', y= 'total_sales' ,xlabel = 'Plataforma', ylabel = 'Total ventas')"
   ]
  },
  {
   "cell_type": "markdown",
   "metadata": {},
   "source": [
    "PS3, X360, PS4, 3DS y XOne han sido las plataformas lideres en ventas durante los últimos 5 años. Por lo que dichas plataformas son ptencialmente rentables, principalmente PS3"
   ]
  },
  {
   "cell_type": "markdown",
   "metadata": {},
   "source": [
    "### ¿Cuáles crecen y cuáles se reducen?"
   ]
  },
  {
   "cell_type": "code",
   "execution_count": 38,
   "metadata": {},
   "outputs": [
    {
     "data": {
      "image/png": "[encoded data removed]",
      "text/plain": [
       "<Figure size 1500x600 with 1 Axes>"
      ]
     },
     "metadata": {},
     "output_type": "display_data"
    }
   ],
   "source": [
    "# Comparar las ventas de estas plataformas en diferentes años para determinar su crecimiento o reducción\n",
    "sales_over_time_5_years = df_games_5_years.groupby(['year_of_release', 'platform'])['total_sales'].sum().unstack()\n",
    "\n",
    "# Trazar las ventas en un gráfico de líneas\n",
    "plt.figure(figsize=(15, 6))\n",
    "sns.lineplot(data=sales_over_time_5_years, markers=True)\n",
    "plt.xlabel('Año de Lanzamiento')\n",
    "plt.ylabel('Ventas Totales')\n",
    "plt.title('Ventas de Plataformas en los Últimos 5 Años')\n",
    "plt.legend(title='Plataforma', bbox_to_anchor=(1.05, 1), loc='upper left')\n",
    "plt.show()"
   ]
  },
  {
   "cell_type": "markdown",
   "metadata": {},
   "source": [
    "Se puede observar que la mayoría de plataformas están llegando a su pico más bajo para el 2016, excepto XOne, PSP y 3DS que aunque no tuvieron las ventas más altas en los últimos 5 años, aún siguen vigentes y no han llegado a su punto bajo, como PS3 que tuvo las mayores ventas, pero hacia el año 2016 ya se observa una gran decadencia.\n",
    "\n",
    "Por lo que las plataformas rentables podrían ser, el top de las 5 con mayores ventas: PS3, X360, PS4, 3DS y XOne.\n",
    "- PS3\n",
    "- X360\n",
    "- PS4\n",
    "- 3DS\n",
    "- XOne"
   ]
  },
  {
   "cell_type": "markdown",
   "metadata": {},
   "source": [
    "### Crea un diagrama de caja para las ventas globales de todos los juegos, desglosados por plataforma. ¿Son significativas las diferencias en las ventas? ¿Qué sucede con las ventas promedio en varias plataformas? Describe tus hallazgos."
   ]
  },
  {
   "cell_type": "markdown",
   "metadata": {},
   "source": [
    "Vamos a seguir trabajando con las plataformas más rentables en los últimos 5 años, que además aún no han llegado a su punto más bajo, es decir plataformas desde el periodo 2012 a 2016 con las siguientes plataformas:\n",
    "\n",
    "- PS3\n",
    "- X360\n",
    "- PS4\n",
    "- 3DS\n",
    "- XOne"
   ]
  },
  {
   "cell_type": "code",
   "execution_count": 39,
   "metadata": {},
   "outputs": [
    {
     "name": "stdout",
     "output_type": "stream",
     "text": [
      "platform\n",
      "3DS    257.81\n",
      "DS      38.73\n",
      "PC      97.68\n",
      "PS2      0.45\n",
      "PS3    445.57\n",
      "Name: total_sales, dtype: float64\n"
     ]
    }
   ],
   "source": [
    "# Distribución basada en los datos de cada año\n",
    "df_games_3 = df_games_5_years[df_games_5_years['platform'].isin(top_platform_5_years['platform'])]\n",
    "df_games_3['platform'].unique()\n",
    "\n",
    "df_games_3_platform_sales = df_games_3.groupby('platform')['total_sales'].sum()\n",
    "\n",
    "print(df_games_3_platform_sales)"
   ]
  },
  {
   "cell_type": "code",
   "execution_count": 40,
   "metadata": {},
   "outputs": [
    {
     "data": {
      "text/plain": [
       "<AxesSubplot:xlabel='total_sales', ylabel='platform'>"
      ]
     },
     "execution_count": 40,
     "metadata": {},
     "output_type": "execute_result"
    },
    {
     "data": {
      "image/png": "[encoded data removed]",
      "text/plain": [
       "<Figure size 1500x600 with 1 Axes>"
      ]
     },
     "metadata": {},
     "output_type": "display_data"
    }
   ],
   "source": [
    "plt.figure(figsize=(15, 6))\n",
    "sns.boxplot(data = df_games_3, x = 'total_sales', y = 'platform' )"
   ]
  },
  {
   "cell_type": "markdown",
   "metadata": {},
   "source": [
    "Hay datos atipicos en la parte derecha del gráfico, por lo que debemos crear un diagrama de caja sin estos valores atipicos."
   ]
  },
  {
   "cell_type": "code",
   "execution_count": 41,
   "metadata": {},
   "outputs": [
    {
     "data": {
      "text/plain": [
       "<AxesSubplot:xlabel='total_sales', ylabel='platform'>"
      ]
     },
     "execution_count": 41,
     "metadata": {},
     "output_type": "execute_result"
    },
    {
     "data": {
      "image/png": "[encoded data removed]",
      "text/plain": [
       "<Figure size 1500x600 with 1 Axes>"
      ]
     },
     "metadata": {},
     "output_type": "display_data"
    }
   ],
   "source": [
    "plt.figure(figsize=(15, 6))\n",
    "sns.boxplot(data = df_games_3, x = 'total_sales', y = 'platform', showfliers = False )"
   ]
  },
  {
   "cell_type": "markdown",
   "metadata": {},
   "source": [
    "Al usar showfliers = False lo que hace es generar el diagrama de caja sin considerar los valores atipicos"
   ]
  },
  {
   "cell_type": "markdown",
   "metadata": {},
   "source": [
    "Analizando lo que el diagrama de caja nos dice para cada plataforma:\n",
    "\n",
    "- PS3\n",
    "\n",
    "El valor mínimo es igual a 0 milones de ventas de ventas totales de la plataforma. Se encuentra al final del bigote izquierdo.\n",
    "\n",
    "Primer cuartil Q1: 0.1 Millones de ventas totales de la plataforma.\n",
    "\n",
    "Segundo cuartil Q2 o mediana: 0.2 Millones de ventas totales de la plataforma.\n",
    "\n",
    "Tercer cuartil Q3: 0.62 millones de ventas totales de la plataforma.\n",
    "\n",
    "El máximo es igual a 1.5 millones de ventas totales de la plataforma. Se encuentra al final del bigote derecho.\n",
    "\n",
    "La distancia entre Q1 y Q3 se denomina intervalo intercuartílico (o IQR). Mide la dispersión de los datos situados en la mitad central. En otras palabras, es el intervalo del 50% medio de la muestra.\n",
    "\n",
    "Q3 - Q1 = 0.52 millones de ventas totales de la plataforma.\n",
    "\n",
    "\n",
    "La mediana de las ventas totales de la plataforma PS3 es de 0.2 millones de dólares, lo que significa que el 50% de los datos se encuentran por encima de este valor y el otro 50% por debajo.\n",
    "\n",
    "El primer cuartil (Q1) indica que el 25% de las ventas totales están por debajo de 0.05 millones de dólares.\n",
    "\n",
    "El tercer cuartil (Q3) indica que el 75% de las ventas totales están por debajo de 0.6 millones de dólares.\n",
    "\n",
    "El rango intercuartílico (IQR) es de 0.52 millones de dólares, lo que sugiere que hay una dispersión significativa en las ventas totales de la plataforma PS3.\n",
    "\n",
    "No hay valores atípicos por encima del máximo, que es de 1.5 millones de dólares.\n",
    "\n",
    "Esto sugiere que las ventas pueden variar significativamente entre los diferentes juegos de la plataforma.\n",
    "\n",
    "\n"
   ]
  },
  {
   "cell_type": "markdown",
   "metadata": {},
   "source": [
    "- 3DS\n",
    "\n",
    "El valor mínimo es igual a 0 milones de ventas de ventas totales de la plataforma. Se encuentra al final del bigote izquierdo.\n",
    "\n",
    "Primer cuartil Q1: 0.06 Millones de ventas totales de la plataforma.\n",
    "\n",
    "Segundo cuartil Q2 o mediana: 0.12 Millones de ventas totales de la plataforma.\n",
    "\n",
    "Tercer cuartil Q3: 0.32 millones de ventas totales de la plataforma.\n",
    "\n",
    "El máximo es igual a 0.75 millones de ventas totales de la plataforma. Se encuentra al final del bigote derecho.\n",
    "\n",
    "La distancia entre Q1 y Q3 se denomina intervalo intercuartílico (o IQR). Mide la dispersión de los datos situados en la mitad central. En otras palabras, es el intervalo del 50% medio de la muestra.\n",
    "\n",
    "Q3 - Q1 = 0.69 millones de ventas totales de la plataforma.\n",
    "\n",
    "\n",
    "La mediana de las ventas totales de la plataforma 3DS es de 0.12 millones de dólares, lo que significa que el 50% de los datos se encuentran por encima de este valor y el otro 50% por debajo.\n",
    "\n",
    "El primer cuartil (Q1) indica que el 25% de las ventas totales están por debajo de 0.06 millones de dólares.\n",
    "\n",
    "El tercer cuartil (Q3) indica que el 75% de las ventas totales están por debajo de 0.32 millones de dólares.\n",
    "\n",
    "El rango intercuartílico (IQR) es de 0.69 millones de dólares, lo que indica que hay una dispersión considerable en las ventas totales de la plataforma 3DS.\n",
    "\n",
    "No hay valores atípicos por encima del máximo, que es de 0.75 millones de dólares.\n",
    "\n",
    "Esto indica que las ventas pueden variar significativamente entre los diferentes juegos de la plataforma.\n"
   ]
  },
  {
   "cell_type": "markdown",
   "metadata": {},
   "source": [
    "- DS\n",
    "\n",
    "El valor mínimo es igual a 0 milones de ventas de ventas totales de la plataforma. Se encuentra al final del bigote izquierdo.\n",
    "\n",
    "Primer cuartil Q1: 0.04 Millones de ventas totales de la plataforma.\n",
    "\n",
    "Segundo cuartil Q2 o mediana: 0.09 Millones de ventas totales de la plataforma.\n",
    "\n",
    "Tercer cuartil Q3: 0.19 millones de ventas totales de la plataforma.\n",
    "\n",
    "El máximo es igual a 0.35 millones de ventas totales de la plataforma. Se encuentra al final del bigote derecho.\n",
    "\n",
    "La distancia entre Q1 y Q3 se denomina intervalo intercuartílico (o IQR). Mide la dispersión de los datos situados en la mitad central. En otras palabras, es el intervalo del 50% medio de la muestra.\n",
    "\n",
    "Q3 - Q1 = 0.31 millones de ventas totales de la plataforma.\n",
    "\n",
    "El valor mínimo de las ventas totales es 0 millones de dólares, lo que indica que hay juegos que no han generado ventas para esta plataforma.\n",
    "\n",
    "La mediana de las ventas totales es de 0.09 millones de dólares, lo que sugiere que el 50% de los datos están por encima de este valor y el otro 50% por debajo.\n",
    "\n",
    "El primer cuartil (Q1) indica que el 25% de las ventas totales están por debajo de 0.04 millones de dólares.\n",
    "\n",
    "El tercer cuartil (Q3) indica que el 75% de las ventas totales están por debajo de 0.19 millones de dólares.\n",
    "\n",
    "El rango intercuartílico (IQR) es de 0.31 millones de dólares, lo que muestra una dispersión moderada en las ventas totales de la plataforma DS.\n",
    "\n",
    "No hay valores atípicos por encima del máximo, que es de 0.35 millones de dólares.\n",
    "\n",
    "as ventas pueden variar entre los diferentes juegos de la plataforma, pero en general, las ventas tienden a ser bajas en comparación con otras plataformas."
   ]
  },
  {
   "cell_type": "markdown",
   "metadata": {},
   "source": [
    "- PC\n",
    "\n",
    "El valor mínimo es igual a 0 milones de ventas de ventas totales de la plataforma. Se encuentra al final del bigote izquierdo.\n",
    "\n",
    "Primer cuartil Q1: 0.03 Millones de ventas totales de la plataforma.\n",
    "\n",
    "Segundo cuartil Q2 o mediana: 0.09 Millones de ventas totales de la plataforma.\n",
    "\n",
    "Tercer cuartil Q3: 0.25 millones de ventas totales de la plataforma.\n",
    "\n",
    "El máximo es igual a 0.55 millones de ventas totales de la plataforma. Se encuentra al final del bigote derecho.\n",
    "\n",
    "La distancia entre Q1 y Q3 se denomina intervalo intercuartílico (o IQR). Mide la dispersión de los datos situados en la mitad central. En otras palabras, es el intervalo del 50% medio de la muestra.\n",
    "\n",
    "Q3 - Q1 = 0.22 millones de ventas totales de la plataforma.\n",
    "\n",
    "El valor mínimo de las ventas totales es 0 millones de dólares, lo que indica que hay juegos que no han generado ventas para esta plataforma.\n",
    "\n",
    "La mediana de las ventas totales es de 0.09 millones de dólares, lo que sugiere que el 50% de los datos están por encima de este valor y el otro 50% por debajo.\n",
    "\n",
    "El primer cuartil (Q1) indica que el 25% de las ventas totales están por debajo de 0.03 millones de dólares.\n",
    "\n",
    "El tercer cuartil (Q3) indica que el 75% de las ventas totales están por debajo de 0.25 millones de dólares.\n",
    "\n",
    "El rango intercuartílico (IQR) es de 0.22 millones de dólares, lo que muestra una dispersión moderada en las ventas totales de la plataforma DS.\n",
    "\n",
    "No hay valores atípicos por encima del máximo, que es de 0.55 millones de dólares.\n",
    "\n",
    "Estos datos indican que la plataforma DS tiene una variabilidad significativa en sus ventas totales, con una mediana relativamente baja y un rango intercuartílico moderado\n"
   ]
  },
  {
   "cell_type": "markdown",
   "metadata": {},
   "source": [
    "- PS2\n",
    "\n",
    "El valor mínimo es igual a 0 milones de ventas de ventas totales de la plataforma. Se encuentra al final del bigote izquierdo.\n",
    "\n",
    "Primer cuartil Q1: 0.04 Millones de ventas totales de la plataforma.\n",
    "\n",
    "Segundo cuartil Q2 o mediana: 0.08 Millones de ventas totales de la plataforma.\n",
    "\n",
    "Tercer cuartil Q3: 0.1 millones de ventas totales de la plataforma.\n",
    "\n",
    "El máximo es igual a 0.15 millones de ventas totales de la plataforma. Se encuentra al final del bigote derecho.\n",
    "\n",
    "La distancia entre Q1 y Q3 se denomina intervalo intercuartílico (o IQR). Mide la dispersión de los datos situados en la mitad central. En otras palabras, es el intervalo del 50% medio de la muestra.\n",
    "\n",
    "Q3 - Q1 = 0.06 millones de ventas totales de la plataforma.\n",
    "\n",
    "El valor mínimo de las ventas totales es 0 millones de dólares, lo que indica que hay juegos que no han generado ventas para esta plataforma.\n",
    "\n",
    "La mediana de las ventas totales es de 0.08 millones de dólares, lo que sugiere que el 50% de los datos están por encima de este valor y el otro 50% por debajo.\n",
    "\n",
    "El primer cuartil (Q1) indica que el 25% de las ventas totales están por debajo de 0.04 millones de dólares.\n",
    "\n",
    "El tercer cuartil (Q3) indica que el 75% de las ventas totales están por debajo de 0.1 millones de dólares.\n",
    "\n",
    "El rango intercuartílico (IQR) es de 0.06 millones de dólares, lo que muestra una dispersión moderada en las ventas totales de la plataforma PS2.\n",
    "\n",
    "No hay valores atípicos por encima del máximo, que es de 0.15 millones de dólares.\n",
    "\n",
    "Estos datos sugieren que las ventas totales de la plataforma PS2 tienden a ser relativamente bajas, con una mediana y un tercer cuartil bastante bajos. La dispersión de las ventas también es moderada, lo que indica cierta consistencia en el rendimiento de los juegos de esta plataforma."
   ]
  },
  {
   "cell_type": "markdown",
   "metadata": {},
   "source": [
    "### Mira cómo las reseñas de usuarios y profesionales afectan las ventas de una plataforma popular (tu elección). Crea un gráfico de dispersión y calcula la correlación entre las reseñas y las ventas. Saca conclusiones."
   ]
  },
  {
   "cell_type": "markdown",
   "metadata": {},
   "source": [
    "Vamos a analizar como el user score y el critic score afectan las ventas de la plataforma PS3"
   ]
  },
  {
   "cell_type": "code",
   "execution_count": 42,
   "metadata": {},
   "outputs": [
    {
     "data": {
      "text/html": [
       "<div>\n",
       "<style scoped>\n",
       "    .dataframe tbody tr th:only-of-type {\n",
       "        vertical-align: middle;\n",
       "    }\n",
       "\n",
       "    .dataframe tbody tr th {\n",
       "        vertical-align: top;\n",
       "    }\n",
       "\n",
       "    .dataframe thead th {\n",
       "        text-align: right;\n",
       "    }\n",
       "</style>\n",
       "<table border=\"1\" class=\"dataframe\">\n",
       "  <thead>\n",
       "    <tr style=\"text-align: right;\">\n",
       "      <th></th>\n",
       "      <th>platform</th>\n",
       "      <th>total_sales</th>\n",
       "      <th>year_of_release</th>\n",
       "      <th>name</th>\n",
       "      <th>user_score</th>\n",
       "      <th>critic_score</th>\n",
       "      <th>genre</th>\n",
       "      <th>rating</th>\n",
       "      <th>eu_sales</th>\n",
       "      <th>jp_sales</th>\n",
       "      <th>na_sales</th>\n",
       "      <th>other_sales</th>\n",
       "    </tr>\n",
       "  </thead>\n",
       "  <tbody>\n",
       "    <tr>\n",
       "      <th>16</th>\n",
       "      <td>PS3</td>\n",
       "      <td>21.05</td>\n",
       "      <td>2013</td>\n",
       "      <td>Grand Theft Auto V</td>\n",
       "      <td>8.2</td>\n",
       "      <td>97.0</td>\n",
       "      <td>Action</td>\n",
       "      <td>M</td>\n",
       "      <td>9.09</td>\n",
       "      <td>0.98</td>\n",
       "      <td>7.02</td>\n",
       "      <td>3.96</td>\n",
       "    </tr>\n",
       "    <tr>\n",
       "      <th>34</th>\n",
       "      <td>PS3</td>\n",
       "      <td>13.79</td>\n",
       "      <td>2012</td>\n",
       "      <td>Call of Duty: Black Ops II</td>\n",
       "      <td>5.3</td>\n",
       "      <td>83.0</td>\n",
       "      <td>Shooter</td>\n",
       "      <td>M</td>\n",
       "      <td>5.73</td>\n",
       "      <td>0.65</td>\n",
       "      <td>4.99</td>\n",
       "      <td>2.42</td>\n",
       "    </tr>\n",
       "    <tr>\n",
       "      <th>37</th>\n",
       "      <td>PS3</td>\n",
       "      <td>13.33</td>\n",
       "      <td>2011</td>\n",
       "      <td>Call of Duty: Modern Warfare 3</td>\n",
       "      <td>3.2</td>\n",
       "      <td>88.0</td>\n",
       "      <td>Shooter</td>\n",
       "      <td>M</td>\n",
       "      <td>5.73</td>\n",
       "      <td>0.49</td>\n",
       "      <td>5.54</td>\n",
       "      <td>1.57</td>\n",
       "    </tr>\n",
       "    <tr>\n",
       "      <th>69</th>\n",
       "      <td>PS3</td>\n",
       "      <td>9.36</td>\n",
       "      <td>2013</td>\n",
       "      <td>Call of Duty: Ghosts</td>\n",
       "      <td>2.6</td>\n",
       "      <td>71.0</td>\n",
       "      <td>Shooter</td>\n",
       "      <td>M</td>\n",
       "      <td>3.63</td>\n",
       "      <td>0.38</td>\n",
       "      <td>4.10</td>\n",
       "      <td>1.25</td>\n",
       "    </tr>\n",
       "    <tr>\n",
       "      <th>81</th>\n",
       "      <td>PS3</td>\n",
       "      <td>8.17</td>\n",
       "      <td>2012</td>\n",
       "      <td>FIFA Soccer 13</td>\n",
       "      <td>6.6</td>\n",
       "      <td>88.0</td>\n",
       "      <td>Action</td>\n",
       "      <td>E</td>\n",
       "      <td>5.01</td>\n",
       "      <td>0.13</td>\n",
       "      <td>1.06</td>\n",
       "      <td>1.97</td>\n",
       "    </tr>\n",
       "    <tr>\n",
       "      <th>...</th>\n",
       "      <td>...</td>\n",
       "      <td>...</td>\n",
       "      <td>...</td>\n",
       "      <td>...</td>\n",
       "      <td>...</td>\n",
       "      <td>...</td>\n",
       "      <td>...</td>\n",
       "      <td>...</td>\n",
       "      <td>...</td>\n",
       "      <td>...</td>\n",
       "      <td>...</td>\n",
       "      <td>...</td>\n",
       "    </tr>\n",
       "    <tr>\n",
       "      <th>16319</th>\n",
       "      <td>PS3</td>\n",
       "      <td>0.01</td>\n",
       "      <td>2011</td>\n",
       "      <td>Resistance Dual Pack</td>\n",
       "      <td>NaN</td>\n",
       "      <td>NaN</td>\n",
       "      <td>Shooter</td>\n",
       "      <td>M</td>\n",
       "      <td>0.01</td>\n",
       "      <td>0.00</td>\n",
       "      <td>0.00</td>\n",
       "      <td>0.00</td>\n",
       "    </tr>\n",
       "    <tr>\n",
       "      <th>16355</th>\n",
       "      <td>PS3</td>\n",
       "      <td>0.01</td>\n",
       "      <td>2014</td>\n",
       "      <td>Strider (2014)</td>\n",
       "      <td>NaN</td>\n",
       "      <td>NaN</td>\n",
       "      <td>Platform</td>\n",
       "      <td>NaN</td>\n",
       "      <td>0.00</td>\n",
       "      <td>0.01</td>\n",
       "      <td>0.00</td>\n",
       "      <td>0.00</td>\n",
       "    </tr>\n",
       "    <tr>\n",
       "      <th>16364</th>\n",
       "      <td>PS3</td>\n",
       "      <td>0.01</td>\n",
       "      <td>2015</td>\n",
       "      <td>Nitroplus Blasterz: Heroines Infinite Duel</td>\n",
       "      <td>NaN</td>\n",
       "      <td>NaN</td>\n",
       "      <td>Fighting</td>\n",
       "      <td>T</td>\n",
       "      <td>0.00</td>\n",
       "      <td>0.01</td>\n",
       "      <td>0.00</td>\n",
       "      <td>0.00</td>\n",
       "    </tr>\n",
       "    <tr>\n",
       "      <th>16230</th>\n",
       "      <td>PS3</td>\n",
       "      <td>0.01</td>\n",
       "      <td>2012</td>\n",
       "      <td>Madden NFL 13</td>\n",
       "      <td>5.5</td>\n",
       "      <td>83.0</td>\n",
       "      <td>Sports</td>\n",
       "      <td>E</td>\n",
       "      <td>0.01</td>\n",
       "      <td>0.00</td>\n",
       "      <td>0.00</td>\n",
       "      <td>0.00</td>\n",
       "    </tr>\n",
       "    <tr>\n",
       "      <th>16241</th>\n",
       "      <td>PS3</td>\n",
       "      <td>0.01</td>\n",
       "      <td>2015</td>\n",
       "      <td>NHL 16</td>\n",
       "      <td>NaN</td>\n",
       "      <td>NaN</td>\n",
       "      <td>Sports</td>\n",
       "      <td>NaN</td>\n",
       "      <td>0.01</td>\n",
       "      <td>0.00</td>\n",
       "      <td>0.00</td>\n",
       "      <td>0.00</td>\n",
       "    </tr>\n",
       "  </tbody>\n",
       "</table>\n",
       "<p>708 rows × 12 columns</p>\n",
       "</div>"
      ],
      "text/plain": [
       "      platform  total_sales  year_of_release  \\\n",
       "16         PS3        21.05             2013   \n",
       "34         PS3        13.79             2012   \n",
       "37         PS3        13.33             2011   \n",
       "69         PS3         9.36             2013   \n",
       "81         PS3         8.17             2012   \n",
       "...        ...          ...              ...   \n",
       "16319      PS3         0.01             2011   \n",
       "16355      PS3         0.01             2014   \n",
       "16364      PS3         0.01             2015   \n",
       "16230      PS3         0.01             2012   \n",
       "16241      PS3         0.01             2015   \n",
       "\n",
       "                                             name  user_score  critic_score  \\\n",
       "16                             Grand Theft Auto V         8.2          97.0   \n",
       "34                     Call of Duty: Black Ops II         5.3          83.0   \n",
       "37                 Call of Duty: Modern Warfare 3         3.2          88.0   \n",
       "69                           Call of Duty: Ghosts         2.6          71.0   \n",
       "81                                 FIFA Soccer 13         6.6          88.0   \n",
       "...                                           ...         ...           ...   \n",
       "16319                        Resistance Dual Pack         NaN           NaN   \n",
       "16355                              Strider (2014)         NaN           NaN   \n",
       "16364  Nitroplus Blasterz: Heroines Infinite Duel         NaN           NaN   \n",
       "16230                               Madden NFL 13         5.5          83.0   \n",
       "16241                                      NHL 16         NaN           NaN   \n",
       "\n",
       "          genre rating  eu_sales  jp_sales  na_sales  other_sales  \n",
       "16       Action      M      9.09      0.98      7.02         3.96  \n",
       "34      Shooter      M      5.73      0.65      4.99         2.42  \n",
       "37      Shooter      M      5.73      0.49      5.54         1.57  \n",
       "69      Shooter      M      3.63      0.38      4.10         1.25  \n",
       "81       Action      E      5.01      0.13      1.06         1.97  \n",
       "...         ...    ...       ...       ...       ...          ...  \n",
       "16319   Shooter      M      0.01      0.00      0.00         0.00  \n",
       "16355  Platform    NaN      0.00      0.01      0.00         0.00  \n",
       "16364  Fighting      T      0.00      0.01      0.00         0.00  \n",
       "16230    Sports      E      0.01      0.00      0.00         0.00  \n",
       "16241    Sports    NaN      0.01      0.00      0.00         0.00  \n",
       "\n",
       "[708 rows x 12 columns]"
      ]
     },
     "metadata": {},
     "output_type": "display_data"
    },
    {
     "data": {
      "image/png": "[encoded data removed]",
      "text/plain": [
       "<Figure size 1000x600 with 1 Axes>"
      ]
     },
     "metadata": {},
     "output_type": "display_data"
    },
    {
     "name": "stdout",
     "output_type": "stream",
     "text": [
      "Correlación entre las reseñas de usuarios, reseñas de profesionales y ventas totales:\n",
      "              user_score  critic_score  total_sales\n",
      "user_score      1.000000      0.563315     0.014089\n",
      "critic_score    0.563315      1.000000     0.380111\n",
      "total_sales     0.014089      0.380111     1.000000\n"
     ]
    }
   ],
   "source": [
    "# Plataforma seleccionada\n",
    "platform = 'PS3'\n",
    "\n",
    "df_platform = df_games_5_years[df_games_5_years['platform'] == platform]\n",
    "\n",
    "display(df_platform)\n",
    "\n",
    "# Gráfico de dispersión para las reseñas de usuarios vs ventas totales\n",
    "plt.figure(figsize=(10, 6))\n",
    "sns.scatterplot(data=df_platform, x='user_score', y='total_sales')\n",
    "plt.title(f'Reseñas de Usuarios vs Ventas Totales en {platform}')\n",
    "plt.xlabel('Reseñas de Usuarios')\n",
    "plt.ylabel('Ventas Totales (en millones)')\n",
    "plt.grid(True)\n",
    "plt.show()\n",
    "\n",
    "# Correlación entre las reseñas de usuarios, las reseñas de profesionales y las ventas totales\n",
    "correlation = df_platform[['user_score', 'critic_score', 'total_sales']].corr()\n",
    "print(\"Correlación entre las reseñas de usuarios, reseñas de profesionales y ventas totales:\")\n",
    "print(correlation)"
   ]
  },
  {
   "cell_type": "markdown",
   "metadata": {},
   "source": [
    "El gráfico de dispersión muestra la relación entre las reseñas de usuarios y las ventas totales de juegos para la plataforma PS3. Cada punto representa un juego, donde el eje x representa las reseñas de usuarios y el eje y representa las ventas totales en millones. Se eligío esta plataforma, dado que es la que presenta un mayor número de ventas totales en los últimos 4 años.\n",
    "\n",
    "No parece haber una correlación evidente entre las reseñas de usuarios y las ventas totales. Los puntos están dispersos por todo el gráfico, lo que sugiere que las reseñas de usuarios no son un indicador directo de las ventas de un juego.\n",
    "\n",
    "La correlación entre las reseñas de usuarios y las ventas totales es muy baja, con un valor de 0.014. Esto confirma que no hay una relación significativa entre estas dos variables. Por otro lado, la correlación entre las reseñas de usuarios y las reseñas de profesionales (critic_score) es moderada, con un valor de 0.563, lo que indica una relación algo más fuerte entre estas dos variables.\n",
    "\n",
    "En resumen, basándonos en este análisis, parece que las reseñas de usuarios no son un factor determinante en las ventas totales de los juegos para la plataforma PS3. Otros factores, como la calidad del juego, la publicidad y la popularidad de la franquicia, pueden tener un impacto mucho mayor en las ventas."
   ]
  },
  {
   "cell_type": "markdown",
   "metadata": {},
   "source": [
    "### Teniendo en cuenta tus conclusiones compara las ventas de los mismos juegos en otras plataformas."
   ]
  },
  {
   "cell_type": "code",
   "execution_count": 43,
   "metadata": {},
   "outputs": [
    {
     "data": {
      "text/html": [
       "<div>\n",
       "<style scoped>\n",
       "    .dataframe tbody tr th:only-of-type {\n",
       "        vertical-align: middle;\n",
       "    }\n",
       "\n",
       "    .dataframe tbody tr th {\n",
       "        vertical-align: top;\n",
       "    }\n",
       "\n",
       "    .dataframe thead th {\n",
       "        text-align: right;\n",
       "    }\n",
       "</style>\n",
       "<table border=\"1\" class=\"dataframe\">\n",
       "  <thead>\n",
       "    <tr style=\"text-align: right;\">\n",
       "      <th></th>\n",
       "      <th>platform</th>\n",
       "      <th>total_sales</th>\n",
       "      <th>year_of_release</th>\n",
       "      <th>name</th>\n",
       "      <th>user_score</th>\n",
       "      <th>critic_score</th>\n",
       "      <th>genre</th>\n",
       "      <th>rating</th>\n",
       "      <th>eu_sales</th>\n",
       "      <th>jp_sales</th>\n",
       "      <th>na_sales</th>\n",
       "      <th>other_sales</th>\n",
       "    </tr>\n",
       "  </thead>\n",
       "  <tbody>\n",
       "    <tr>\n",
       "      <th>23</th>\n",
       "      <td>X360</td>\n",
       "      <td>16.27</td>\n",
       "      <td>2013</td>\n",
       "      <td>Grand Theft Auto V</td>\n",
       "      <td>8.1</td>\n",
       "      <td>97.0</td>\n",
       "      <td>Action</td>\n",
       "      <td>M</td>\n",
       "      <td>5.14</td>\n",
       "      <td>0.06</td>\n",
       "      <td>9.66</td>\n",
       "      <td>1.41</td>\n",
       "    </tr>\n",
       "    <tr>\n",
       "      <th>29</th>\n",
       "      <td>X360</td>\n",
       "      <td>14.73</td>\n",
       "      <td>2011</td>\n",
       "      <td>Call of Duty: Modern Warfare 3</td>\n",
       "      <td>3.4</td>\n",
       "      <td>88.0</td>\n",
       "      <td>Shooter</td>\n",
       "      <td>M</td>\n",
       "      <td>4.24</td>\n",
       "      <td>0.13</td>\n",
       "      <td>9.04</td>\n",
       "      <td>1.32</td>\n",
       "    </tr>\n",
       "    <tr>\n",
       "      <th>31</th>\n",
       "      <td>PS4</td>\n",
       "      <td>14.63</td>\n",
       "      <td>2015</td>\n",
       "      <td>Call of Duty: Black Ops 3</td>\n",
       "      <td>NaN</td>\n",
       "      <td>NaN</td>\n",
       "      <td>Shooter</td>\n",
       "      <td>NaN</td>\n",
       "      <td>5.86</td>\n",
       "      <td>0.36</td>\n",
       "      <td>6.03</td>\n",
       "      <td>2.38</td>\n",
       "    </tr>\n",
       "    <tr>\n",
       "      <th>35</th>\n",
       "      <td>X360</td>\n",
       "      <td>13.68</td>\n",
       "      <td>2012</td>\n",
       "      <td>Call of Duty: Black Ops II</td>\n",
       "      <td>4.8</td>\n",
       "      <td>83.0</td>\n",
       "      <td>Shooter</td>\n",
       "      <td>M</td>\n",
       "      <td>4.24</td>\n",
       "      <td>0.07</td>\n",
       "      <td>8.25</td>\n",
       "      <td>1.12</td>\n",
       "    </tr>\n",
       "    <tr>\n",
       "      <th>42</th>\n",
       "      <td>PS4</td>\n",
       "      <td>12.62</td>\n",
       "      <td>2014</td>\n",
       "      <td>Grand Theft Auto V</td>\n",
       "      <td>8.3</td>\n",
       "      <td>97.0</td>\n",
       "      <td>Action</td>\n",
       "      <td>M</td>\n",
       "      <td>6.31</td>\n",
       "      <td>0.38</td>\n",
       "      <td>3.96</td>\n",
       "      <td>1.97</td>\n",
       "    </tr>\n",
       "    <tr>\n",
       "      <th>...</th>\n",
       "      <td>...</td>\n",
       "      <td>...</td>\n",
       "      <td>...</td>\n",
       "      <td>...</td>\n",
       "      <td>...</td>\n",
       "      <td>...</td>\n",
       "      <td>...</td>\n",
       "      <td>...</td>\n",
       "      <td>...</td>\n",
       "      <td>...</td>\n",
       "      <td>...</td>\n",
       "      <td>...</td>\n",
       "    </tr>\n",
       "    <tr>\n",
       "      <th>16312</th>\n",
       "      <td>Wii</td>\n",
       "      <td>0.01</td>\n",
       "      <td>2015</td>\n",
       "      <td>Monster High: New Ghoul in School</td>\n",
       "      <td>NaN</td>\n",
       "      <td>NaN</td>\n",
       "      <td>Action</td>\n",
       "      <td>E</td>\n",
       "      <td>0.01</td>\n",
       "      <td>0.00</td>\n",
       "      <td>0.00</td>\n",
       "      <td>0.00</td>\n",
       "    </tr>\n",
       "    <tr>\n",
       "      <th>16323</th>\n",
       "      <td>PSV</td>\n",
       "      <td>0.01</td>\n",
       "      <td>2016</td>\n",
       "      <td>Samurai Warriors: Sanada Maru</td>\n",
       "      <td>NaN</td>\n",
       "      <td>NaN</td>\n",
       "      <td>Action</td>\n",
       "      <td>NaN</td>\n",
       "      <td>0.00</td>\n",
       "      <td>0.01</td>\n",
       "      <td>0.00</td>\n",
       "      <td>0.00</td>\n",
       "    </tr>\n",
       "    <tr>\n",
       "      <th>16334</th>\n",
       "      <td>3DS</td>\n",
       "      <td>0.01</td>\n",
       "      <td>2011</td>\n",
       "      <td>Order Up!!</td>\n",
       "      <td>NaN</td>\n",
       "      <td>NaN</td>\n",
       "      <td>Action</td>\n",
       "      <td>NaN</td>\n",
       "      <td>0.01</td>\n",
       "      <td>0.00</td>\n",
       "      <td>0.00</td>\n",
       "      <td>0.00</td>\n",
       "    </tr>\n",
       "    <tr>\n",
       "      <th>16359</th>\n",
       "      <td>Wii</td>\n",
       "      <td>0.01</td>\n",
       "      <td>2012</td>\n",
       "      <td>Captain Morgane and the Golden Turtle</td>\n",
       "      <td>NaN</td>\n",
       "      <td>NaN</td>\n",
       "      <td>Adventure</td>\n",
       "      <td>NaN</td>\n",
       "      <td>0.01</td>\n",
       "      <td>0.00</td>\n",
       "      <td>0.00</td>\n",
       "      <td>0.00</td>\n",
       "    </tr>\n",
       "    <tr>\n",
       "      <th>16247</th>\n",
       "      <td>PSP</td>\n",
       "      <td>0.01</td>\n",
       "      <td>2013</td>\n",
       "      <td>Accel World: Kasoku no Chouten</td>\n",
       "      <td>NaN</td>\n",
       "      <td>NaN</td>\n",
       "      <td>Adventure</td>\n",
       "      <td>NaN</td>\n",
       "      <td>0.00</td>\n",
       "      <td>0.01</td>\n",
       "      <td>0.00</td>\n",
       "      <td>0.00</td>\n",
       "    </tr>\n",
       "  </tbody>\n",
       "</table>\n",
       "<p>1266 rows × 12 columns</p>\n",
       "</div>"
      ],
      "text/plain": [
       "      platform  total_sales  year_of_release  \\\n",
       "23        X360        16.27             2013   \n",
       "29        X360        14.73             2011   \n",
       "31         PS4        14.63             2015   \n",
       "35        X360        13.68             2012   \n",
       "42         PS4        12.62             2014   \n",
       "...        ...          ...              ...   \n",
       "16312      Wii         0.01             2015   \n",
       "16323      PSV         0.01             2016   \n",
       "16334      3DS         0.01             2011   \n",
       "16359      Wii         0.01             2012   \n",
       "16247      PSP         0.01             2013   \n",
       "\n",
       "                                        name  user_score  critic_score  \\\n",
       "23                        Grand Theft Auto V         8.1          97.0   \n",
       "29            Call of Duty: Modern Warfare 3         3.4          88.0   \n",
       "31                 Call of Duty: Black Ops 3         NaN           NaN   \n",
       "35                Call of Duty: Black Ops II         4.8          83.0   \n",
       "42                        Grand Theft Auto V         8.3          97.0   \n",
       "...                                      ...         ...           ...   \n",
       "16312      Monster High: New Ghoul in School         NaN           NaN   \n",
       "16323          Samurai Warriors: Sanada Maru         NaN           NaN   \n",
       "16334                             Order Up!!         NaN           NaN   \n",
       "16359  Captain Morgane and the Golden Turtle         NaN           NaN   \n",
       "16247         Accel World: Kasoku no Chouten         NaN           NaN   \n",
       "\n",
       "           genre rating  eu_sales  jp_sales  na_sales  other_sales  \n",
       "23        Action      M      5.14      0.06      9.66         1.41  \n",
       "29       Shooter      M      4.24      0.13      9.04         1.32  \n",
       "31       Shooter    NaN      5.86      0.36      6.03         2.38  \n",
       "35       Shooter      M      4.24      0.07      8.25         1.12  \n",
       "42        Action      M      6.31      0.38      3.96         1.97  \n",
       "...          ...    ...       ...       ...       ...          ...  \n",
       "16312     Action      E      0.01      0.00      0.00         0.00  \n",
       "16323     Action    NaN      0.00      0.01      0.00         0.00  \n",
       "16334     Action    NaN      0.01      0.00      0.00         0.00  \n",
       "16359  Adventure    NaN      0.01      0.00      0.00         0.00  \n",
       "16247  Adventure    NaN      0.00      0.01      0.00         0.00  \n",
       "\n",
       "[1266 rows x 12 columns]"
      ]
     },
     "metadata": {},
     "output_type": "display_data"
    },
    {
     "data": {
      "image/png": "[encoded data removed]",
      "text/plain": [
       "<Figure size 1000x600 with 1 Axes>"
      ]
     },
     "metadata": {},
     "output_type": "display_data"
    },
    {
     "name": "stdout",
     "output_type": "stream",
     "text": [
      "              total_sales  critic_score\n",
      "total_sales      1.000000      0.322039\n",
      "critic_score     0.322039      1.000000\n"
     ]
    }
   ],
   "source": [
    "games_selected = df_games_5_years[df_games_5_years['platform'] == platform]['name'].unique()\n",
    "\n",
    "other_platforms_data = df_games_5_years[(df_games_5_years['name'].isin(games_selected)) & (df_games_5_years['platform'] != platform)]\n",
    "\n",
    "display(other_platforms_data)\n",
    "\n",
    "plt.figure(figsize=(10, 6))\n",
    "sns.scatterplot(data=other_platforms_data, x='total_sales', y='critic_score', hue='platform')\n",
    "plt.title('Ventas Totales vs Reseñas de Profesionales en Otras Plataformas')\n",
    "plt.xlabel('Ventas Totales (millones)')\n",
    "plt.ylabel('Reseñas de Profesionales')\n",
    "plt.grid(True)\n",
    "plt.legend(title='Plataforma')\n",
    "plt.show()\n",
    "\n",
    "correlation_name = other_platforms_data[['total_sales', 'critic_score' ]].corr()\n",
    "\n",
    "print(correlation_name)"
   ]
  },
  {
   "cell_type": "markdown",
   "metadata": {},
   "source": [
    "El gráfico de dispersión muestra la relación entre las ventas totales de los juegos y las reseñas de profesionales (critic_score) para todas las plataformas excepto PS3. Cada punto representa un juego, donde el eje X representa las ventas totales en millones y el eje Y representa las reseñas de profesionales.\n",
    "\n",
    "A partir del gráfico se pude inferir que hay una correlación moderada entre las ventas totales y las reseñas de profesionales. Los puntos tienden a agruparse hacia arriba a la derecha del gráfico, lo que sugiere que los juegos con reseñas de profesionales más altas tienden a tener mayores ventas totales.\n",
    "\n",
    "La correlación entre las ventas totales y las reseñas de profesionales es de aproximadamente 0.322, lo que indica una relación positiva pero moderada entre estas dos variables. Esto sugiere que, en general, los juegos con mejores reseñas de profesionales tienden a vender más, pero también hay otros factores que influyen en las ventas totales.\n",
    "\n",
    "A diferencia de lo analizado anteriormente con la plataforma PS3 entre las ventas totales y la critica de los ususarios, acá se evidencia que hay mayor correlación entre las ventas totales y la reseña de los criticos (critic_score).\n",
    "\n",
    "Lo que indica que tendría mayor influencia en general la critica de los profesionales que la de lo"
   ]
  },
  {
   "cell_type": "markdown",
   "metadata": {},
   "source": [
    "### Echa un vistazo a la distribución general de los juegos por género. ¿Qué se puede decir de los géneros más rentables? ¿Puedes generalizar acerca de los géneros con ventas altas y bajas?"
   ]
  },
  {
   "cell_type": "code",
   "execution_count": 44,
   "metadata": {},
   "outputs": [
    {
     "data": {
      "text/plain": [
       "genre\n",
       "Action          557.80\n",
       "Shooter         402.91\n",
       "Role-Playing    245.63\n",
       "Sports          237.15\n",
       "Misc            139.42\n",
       "Platform         88.68\n",
       "Racing           88.31\n",
       "Fighting         66.90\n",
       "Simulation       50.26\n",
       "Adventure        45.04\n",
       "Strategy         22.16\n",
       "Puzzle            9.85\n",
       "Name: total_sales, dtype: float64"
      ]
     },
     "metadata": {},
     "output_type": "display_data"
    }
   ],
   "source": [
    "game_genre = df_games_5_years.groupby('genre')['total_sales'].sum().sort_values(ascending=False)\n",
    "\n",
    "\n",
    "display(game_genre)"
   ]
  },
  {
   "cell_type": "code",
   "execution_count": 45,
   "metadata": {},
   "outputs": [
    {
     "data": {
      "image/png": "[encoded data removed]",
      "text/plain": [
       "<Figure size 1200x600 with 1 Axes>"
      ]
     },
     "metadata": {},
     "output_type": "display_data"
    },
    {
     "name": "stdout",
     "output_type": "stream",
     "text": [
      "Géneros con las ventas más altas:\n",
      "genre\n",
      "Action          557.80\n",
      "Shooter         402.91\n",
      "Role-Playing    245.63\n",
      "Sports          237.15\n",
      "Misc            139.42\n",
      "Name: total_sales, dtype: float64\n",
      "\n",
      "Géneros con las ventas más bajas:\n",
      "genre\n",
      "Fighting      66.90\n",
      "Simulation    50.26\n",
      "Adventure     45.04\n",
      "Strategy      22.16\n",
      "Puzzle         9.85\n",
      "Name: total_sales, dtype: float64\n"
     ]
    }
   ],
   "source": [
    "# Visualizar la distribución de las ventas por género\n",
    "plt.figure(figsize=(12, 6))\n",
    "sns.barplot(x=game_genre.index, y=game_genre.values, palette='viridis')\n",
    "plt.title('Ventas Totales por Género de Juego')\n",
    "plt.xlabel('Género')\n",
    "plt.ylabel('Ventas Totales')\n",
    "plt.xticks(rotation=45, ha='right')\n",
    "plt.grid(axis='y')\n",
    "plt.show()\n",
    "\n",
    "# Imprimir los géneros con las ventas más altas y más bajas\n",
    "print(\"Géneros con las ventas más altas:\")\n",
    "print(game_genre.head())\n",
    "\n",
    "print(\"\\nGéneros con las ventas más bajas:\")\n",
    "print(game_genre.tail())"
   ]
  },
  {
   "cell_type": "markdown",
   "metadata": {},
   "source": [
    "Al observar la distribución de los juegos por género y sus ventas totales, podemos notar que los géneros más rentables son Action, Shooter, Role-Playing, Sports y Misc, que son los que tienen las ventas más altas. Estos géneros suelen ser populares entre los jugadores y a menudo incluyen títulos de franquicias conocidas y de gran presupuesto.\n",
    "\n",
    "Por otro lado, los géneros con ventas más bajas son Fighting, Simulation, Adventure, Strategy y Puzzle. Estos géneros pueden no ser tan populares como los mencionados anteriormente o pueden tener una base de fans más pequeña. Además, es posible que algunos de estos géneros requieran un enfoque más específico y nicho, lo que limita su alcance y potencial de ventas.\n",
    "\n",
    "En general, los géneros más rentables tienden a ser aquellos que atraen a una amplia audiencia y ofrecen experiencias de juego emocionantes e inmersivas. Por otro lado, los géneros con ventas más bajas pueden tener un atractivo más limitado o enfrentar una mayor competencia en el mercado. Sin embargo, es importante tener en cuenta que el éxito de un juego no depende únicamente de su género, sino también de otros factores como la calidad del juego, la comercialización y la recepción de los jugadores."
   ]
  },
  {
   "cell_type": "markdown",
   "metadata": {},
   "source": [
    "## Paso 4. Crea un perfil de usuario para cada región"
   ]
  },
  {
   "cell_type": "markdown",
   "metadata": {},
   "source": [
    "Para cada región (NA, UE, JP) determina:"
   ]
  },
  {
   "cell_type": "markdown",
   "metadata": {},
   "source": [
    "### Las cinco plataformas principales. Describe las variaciones en sus cuotas de mercado de una región a otra."
   ]
  },
  {
   "cell_type": "code",
   "execution_count": 46,
   "metadata": {},
   "outputs": [
    {
     "data": {
      "text/html": [
       "<div>\n",
       "<style scoped>\n",
       "    .dataframe tbody tr th:only-of-type {\n",
       "        vertical-align: middle;\n",
       "    }\n",
       "\n",
       "    .dataframe tbody tr th {\n",
       "        vertical-align: top;\n",
       "    }\n",
       "\n",
       "    .dataframe thead th {\n",
       "        text-align: right;\n",
       "    }\n",
       "</style>\n",
       "<table border=\"1\" class=\"dataframe\">\n",
       "  <thead>\n",
       "    <tr style=\"text-align: right;\">\n",
       "      <th></th>\n",
       "      <th>platform</th>\n",
       "      <th>na_sales</th>\n",
       "      <th>eu_sales</th>\n",
       "      <th>jp_sales</th>\n",
       "      <th>other_sales</th>\n",
       "    </tr>\n",
       "  </thead>\n",
       "  <tbody>\n",
       "    <tr>\n",
       "      <th>0</th>\n",
       "      <td>3DS</td>\n",
       "      <td>82.65</td>\n",
       "      <td>61.27</td>\n",
       "      <td>100.62</td>\n",
       "      <td>13.27</td>\n",
       "    </tr>\n",
       "    <tr>\n",
       "      <th>1</th>\n",
       "      <td>DS</td>\n",
       "      <td>18.86</td>\n",
       "      <td>9.24</td>\n",
       "      <td>8.04</td>\n",
       "      <td>2.59</td>\n",
       "    </tr>\n",
       "    <tr>\n",
       "      <th>2</th>\n",
       "      <td>PC</td>\n",
       "      <td>29.88</td>\n",
       "      <td>56.70</td>\n",
       "      <td>0.00</td>\n",
       "      <td>11.10</td>\n",
       "    </tr>\n",
       "    <tr>\n",
       "      <th>3</th>\n",
       "      <td>PS2</td>\n",
       "      <td>0.13</td>\n",
       "      <td>0.13</td>\n",
       "      <td>0.09</td>\n",
       "      <td>0.10</td>\n",
       "    </tr>\n",
       "    <tr>\n",
       "      <th>4</th>\n",
       "      <td>PS3</td>\n",
       "      <td>168.26</td>\n",
       "      <td>163.10</td>\n",
       "      <td>49.39</td>\n",
       "      <td>64.82</td>\n",
       "    </tr>\n",
       "  </tbody>\n",
       "</table>\n",
       "</div>"
      ],
      "text/plain": [
       "  platform  na_sales  eu_sales  jp_sales  other_sales\n",
       "0      3DS     82.65     61.27    100.62        13.27\n",
       "1       DS     18.86      9.24      8.04         2.59\n",
       "2       PC     29.88     56.70      0.00        11.10\n",
       "3      PS2      0.13      0.13      0.09         0.10\n",
       "4      PS3    168.26    163.10     49.39        64.82"
      ]
     },
     "metadata": {},
     "output_type": "display_data"
    }
   ],
   "source": [
    "market_sales = top_platform_5_years.groupby('platform').agg({\n",
    "    'na_sales':'sum',\n",
    "    'eu_sales': 'sum',\n",
    "    'jp_sales': 'sum',\n",
    "    'other_sales': 'sum'\n",
    "    \n",
    "}).reset_index()\n",
    "\n",
    "display(market_sales)\n",
    "\n"
   ]
  },
  {
   "cell_type": "code",
   "execution_count": 47,
   "metadata": {},
   "outputs": [
    {
     "data": {
      "text/html": [
       "<div>\n",
       "<style scoped>\n",
       "    .dataframe tbody tr th:only-of-type {\n",
       "        vertical-align: middle;\n",
       "    }\n",
       "\n",
       "    .dataframe tbody tr th {\n",
       "        vertical-align: top;\n",
       "    }\n",
       "\n",
       "    .dataframe thead th {\n",
       "        text-align: right;\n",
       "    }\n",
       "</style>\n",
       "<table border=\"1\" class=\"dataframe\">\n",
       "  <thead>\n",
       "    <tr style=\"text-align: right;\">\n",
       "      <th></th>\n",
       "      <th>platform</th>\n",
       "      <th>market</th>\n",
       "      <th>sales</th>\n",
       "    </tr>\n",
       "  </thead>\n",
       "  <tbody>\n",
       "    <tr>\n",
       "      <th>0</th>\n",
       "      <td>3DS</td>\n",
       "      <td>na_sales</td>\n",
       "      <td>82.65</td>\n",
       "    </tr>\n",
       "    <tr>\n",
       "      <th>1</th>\n",
       "      <td>DS</td>\n",
       "      <td>na_sales</td>\n",
       "      <td>18.86</td>\n",
       "    </tr>\n",
       "    <tr>\n",
       "      <th>2</th>\n",
       "      <td>PC</td>\n",
       "      <td>na_sales</td>\n",
       "      <td>29.88</td>\n",
       "    </tr>\n",
       "    <tr>\n",
       "      <th>3</th>\n",
       "      <td>PS2</td>\n",
       "      <td>na_sales</td>\n",
       "      <td>0.13</td>\n",
       "    </tr>\n",
       "    <tr>\n",
       "      <th>4</th>\n",
       "      <td>PS3</td>\n",
       "      <td>na_sales</td>\n",
       "      <td>168.26</td>\n",
       "    </tr>\n",
       "    <tr>\n",
       "      <th>5</th>\n",
       "      <td>3DS</td>\n",
       "      <td>eu_sales</td>\n",
       "      <td>61.27</td>\n",
       "    </tr>\n",
       "    <tr>\n",
       "      <th>6</th>\n",
       "      <td>DS</td>\n",
       "      <td>eu_sales</td>\n",
       "      <td>9.24</td>\n",
       "    </tr>\n",
       "    <tr>\n",
       "      <th>7</th>\n",
       "      <td>PC</td>\n",
       "      <td>eu_sales</td>\n",
       "      <td>56.70</td>\n",
       "    </tr>\n",
       "    <tr>\n",
       "      <th>8</th>\n",
       "      <td>PS2</td>\n",
       "      <td>eu_sales</td>\n",
       "      <td>0.13</td>\n",
       "    </tr>\n",
       "    <tr>\n",
       "      <th>9</th>\n",
       "      <td>PS3</td>\n",
       "      <td>eu_sales</td>\n",
       "      <td>163.10</td>\n",
       "    </tr>\n",
       "    <tr>\n",
       "      <th>10</th>\n",
       "      <td>3DS</td>\n",
       "      <td>jp_sales</td>\n",
       "      <td>100.62</td>\n",
       "    </tr>\n",
       "    <tr>\n",
       "      <th>11</th>\n",
       "      <td>DS</td>\n",
       "      <td>jp_sales</td>\n",
       "      <td>8.04</td>\n",
       "    </tr>\n",
       "    <tr>\n",
       "      <th>12</th>\n",
       "      <td>PC</td>\n",
       "      <td>jp_sales</td>\n",
       "      <td>0.00</td>\n",
       "    </tr>\n",
       "    <tr>\n",
       "      <th>13</th>\n",
       "      <td>PS2</td>\n",
       "      <td>jp_sales</td>\n",
       "      <td>0.09</td>\n",
       "    </tr>\n",
       "    <tr>\n",
       "      <th>14</th>\n",
       "      <td>PS3</td>\n",
       "      <td>jp_sales</td>\n",
       "      <td>49.39</td>\n",
       "    </tr>\n",
       "    <tr>\n",
       "      <th>15</th>\n",
       "      <td>3DS</td>\n",
       "      <td>other_sales</td>\n",
       "      <td>13.27</td>\n",
       "    </tr>\n",
       "    <tr>\n",
       "      <th>16</th>\n",
       "      <td>DS</td>\n",
       "      <td>other_sales</td>\n",
       "      <td>2.59</td>\n",
       "    </tr>\n",
       "    <tr>\n",
       "      <th>17</th>\n",
       "      <td>PC</td>\n",
       "      <td>other_sales</td>\n",
       "      <td>11.10</td>\n",
       "    </tr>\n",
       "    <tr>\n",
       "      <th>18</th>\n",
       "      <td>PS2</td>\n",
       "      <td>other_sales</td>\n",
       "      <td>0.10</td>\n",
       "    </tr>\n",
       "    <tr>\n",
       "      <th>19</th>\n",
       "      <td>PS3</td>\n",
       "      <td>other_sales</td>\n",
       "      <td>64.82</td>\n",
       "    </tr>\n",
       "  </tbody>\n",
       "</table>\n",
       "</div>"
      ],
      "text/plain": [
       "   platform       market   sales\n",
       "0       3DS     na_sales   82.65\n",
       "1        DS     na_sales   18.86\n",
       "2        PC     na_sales   29.88\n",
       "3       PS2     na_sales    0.13\n",
       "4       PS3     na_sales  168.26\n",
       "5       3DS     eu_sales   61.27\n",
       "6        DS     eu_sales    9.24\n",
       "7        PC     eu_sales   56.70\n",
       "8       PS2     eu_sales    0.13\n",
       "9       PS3     eu_sales  163.10\n",
       "10      3DS     jp_sales  100.62\n",
       "11       DS     jp_sales    8.04\n",
       "12       PC     jp_sales    0.00\n",
       "13      PS2     jp_sales    0.09\n",
       "14      PS3     jp_sales   49.39\n",
       "15      3DS  other_sales   13.27\n",
       "16       DS  other_sales    2.59\n",
       "17       PC  other_sales   11.10\n",
       "18      PS2  other_sales    0.10\n",
       "19      PS3  other_sales   64.82"
      ]
     },
     "metadata": {},
     "output_type": "display_data"
    }
   ],
   "source": [
    "market_sales = pd.melt(market_sales, id_vars = ['platform'], \n",
    "                       value_vars = ['na_sales', 'eu_sales', 'jp_sales', 'other_sales'], \n",
    "                       var_name = 'market', \n",
    "                       value_name = 'sales')\n",
    "\n",
    "display(market_sales)"
   ]
  },
  {
   "cell_type": "code",
   "execution_count": 48,
   "metadata": {},
   "outputs": [
    {
     "data": {
      "text/plain": [
       "<AxesSubplot:xlabel='market', ylabel='sales'>"
      ]
     },
     "execution_count": 48,
     "metadata": {},
     "output_type": "execute_result"
    },
    {
     "data": {
      "image/png": "[encoded data removed]",
      "text/plain": [
       "<Figure size 1400x700 with 1 Axes>"
      ]
     },
     "metadata": {},
     "output_type": "display_data"
    }
   ],
   "source": [
    "plt.figure(figsize=(14, 7))\n",
    "sns.barplot(data = market_sales, x = 'market', y = 'sales', hue = 'platform')"
   ]
  },
  {
   "cell_type": "markdown",
   "metadata": {},
   "source": [
    "- NA (América del Norte):\n",
    "\n",
    "PS3 - 168.26 millones de ventas\n",
    "\n",
    "3DS - 82.65 millones de ventas\n",
    "\n",
    "PC - 29.88 millones de ventas\n",
    "\n",
    "DS - 18.86 millones de ventas\n",
    "\n",
    "Other - 13.27 millones de ventas\n",
    "\n",
    "La plataforma PS3 lidera en ventas, seguida de 3DS y PC. DS y PS2 tienen ventas significativamente más bajas en esta región."
   ]
  },
  {
   "cell_type": "markdown",
   "metadata": {},
   "source": [
    "- EU (Europa):\n",
    "\n",
    "PS3 - 163.10 millones de ventas\n",
    "\n",
    "3DS - 61.27 millones de ventas\n",
    "\n",
    "PC - 56.70 millones de ventas\n",
    "\n",
    "Other - 11.10 millones de ventas\n",
    "\n",
    "DS - 9.24 millones de ventas\n",
    "\n",
    "En EU (Europa), PS3 también lidera en ventas, seguida de PC y 3DS. Similar a NA, DS y PS2 tienen ventas más bajas en EU."
   ]
  },
  {
   "cell_type": "markdown",
   "metadata": {},
   "source": [
    "- JP (Japón):\n",
    "\n",
    "3DS - 100.62 millones de ventas\n",
    "\n",
    "PS3 - 49.39 millones de ventas\n",
    "\n",
    "Other - 13.27 millones de ventas\n",
    "\n",
    "DS - 8.04 millones de ventas\n",
    "\n",
    "PC - 0.00 millones de ventas\n",
    "\n",
    "En JP (Japón), 3DS es la plataforma líder en ventas, seguida de PS3. PC tiene ventas muy bajas en JP, y DS y PS2 tienen ventas aún más bajas.\n"
   ]
  },
  {
   "cell_type": "markdown",
   "metadata": {},
   "source": [
    "Podemos observar que las plataformas líderes varían entre las regiones, sobre todo entre Europra y America del Norte con Japón; en donde Europa y Norte America tienen las mismas plataformas líderes con algunas variaciones en la cantidad de ventas, mientras que en Japón su plataforma líder es la segunda para Europa y Norte America y PS3 tiene menos de la mitad de las ventas a comparación de las que tiene en EU y NA. \n",
    "\n",
    "Por ejemplo, PS3 es líder en ventas en NA y EU, mientras que 3DS lidera en JP. Esto sugiere que las preferencias de los jugadores pueden diferir según la región, posiblemente debido a factores como la disponibilidad de juegos exclusivos, preferencias culturales y diferencias en la popularidad de las plataformas en cada región.\n",
    "\n",
    "Ahora, para visualizar estas diferencias en las cuotas de mercado entre las regiones, podemos usar un gráfico de barras agrupado. El código que proporcionaste parece estar en el formato correcto para crear este gráfico. Solo necesitaríamos asegurarnos de que market_sales contenga los datos adecuados para las ventas en cada región y que los nombres de las plataformas sean legibles en el gráfico. Una vez que tengamos esos datos listos, podemos generar el gráfico usando Seaborn o cualquier otra biblioteca de visualización de datos que prefieras."
   ]
  },
  {
   "cell_type": "markdown",
   "metadata": {},
   "source": [
    "### Los cinco géneros principales. Explica la diferencia."
   ]
  },
  {
   "cell_type": "code",
   "execution_count": 49,
   "metadata": {},
   "outputs": [
    {
     "data": {
      "text/html": [
       "<div>\n",
       "<style scoped>\n",
       "    .dataframe tbody tr th:only-of-type {\n",
       "        vertical-align: middle;\n",
       "    }\n",
       "\n",
       "    .dataframe tbody tr th {\n",
       "        vertical-align: top;\n",
       "    }\n",
       "\n",
       "    .dataframe thead th {\n",
       "        text-align: right;\n",
       "    }\n",
       "</style>\n",
       "<table border=\"1\" class=\"dataframe\">\n",
       "  <thead>\n",
       "    <tr style=\"text-align: right;\">\n",
       "      <th></th>\n",
       "      <th>total_sales</th>\n",
       "      <th>genre</th>\n",
       "      <th>rating</th>\n",
       "      <th>eu_sales</th>\n",
       "      <th>jp_sales</th>\n",
       "      <th>na_sales</th>\n",
       "      <th>other_sales</th>\n",
       "    </tr>\n",
       "  </thead>\n",
       "  <tbody>\n",
       "    <tr>\n",
       "      <th>16</th>\n",
       "      <td>21.05</td>\n",
       "      <td>Action</td>\n",
       "      <td>M</td>\n",
       "      <td>9.09</td>\n",
       "      <td>0.98</td>\n",
       "      <td>7.02</td>\n",
       "      <td>3.96</td>\n",
       "    </tr>\n",
       "    <tr>\n",
       "      <th>23</th>\n",
       "      <td>16.27</td>\n",
       "      <td>Action</td>\n",
       "      <td>M</td>\n",
       "      <td>5.14</td>\n",
       "      <td>0.06</td>\n",
       "      <td>9.66</td>\n",
       "      <td>1.41</td>\n",
       "    </tr>\n",
       "    <tr>\n",
       "      <th>29</th>\n",
       "      <td>14.73</td>\n",
       "      <td>Shooter</td>\n",
       "      <td>M</td>\n",
       "      <td>4.24</td>\n",
       "      <td>0.13</td>\n",
       "      <td>9.04</td>\n",
       "      <td>1.32</td>\n",
       "    </tr>\n",
       "    <tr>\n",
       "      <th>31</th>\n",
       "      <td>14.63</td>\n",
       "      <td>Shooter</td>\n",
       "      <td>NaN</td>\n",
       "      <td>5.86</td>\n",
       "      <td>0.36</td>\n",
       "      <td>6.03</td>\n",
       "      <td>2.38</td>\n",
       "    </tr>\n",
       "    <tr>\n",
       "      <th>33</th>\n",
       "      <td>14.60</td>\n",
       "      <td>Role-Playing</td>\n",
       "      <td>NaN</td>\n",
       "      <td>4.19</td>\n",
       "      <td>4.35</td>\n",
       "      <td>5.28</td>\n",
       "      <td>0.78</td>\n",
       "    </tr>\n",
       "    <tr>\n",
       "      <th>...</th>\n",
       "      <td>...</td>\n",
       "      <td>...</td>\n",
       "      <td>...</td>\n",
       "      <td>...</td>\n",
       "      <td>...</td>\n",
       "      <td>...</td>\n",
       "      <td>...</td>\n",
       "    </tr>\n",
       "    <tr>\n",
       "      <th>16265</th>\n",
       "      <td>0.01</td>\n",
       "      <td>Adventure</td>\n",
       "      <td>NaN</td>\n",
       "      <td>0.00</td>\n",
       "      <td>0.01</td>\n",
       "      <td>0.00</td>\n",
       "      <td>0.00</td>\n",
       "    </tr>\n",
       "    <tr>\n",
       "      <th>16267</th>\n",
       "      <td>0.01</td>\n",
       "      <td>Adventure</td>\n",
       "      <td>T</td>\n",
       "      <td>0.01</td>\n",
       "      <td>0.00</td>\n",
       "      <td>0.00</td>\n",
       "      <td>0.00</td>\n",
       "    </tr>\n",
       "    <tr>\n",
       "      <th>16268</th>\n",
       "      <td>0.01</td>\n",
       "      <td>Puzzle</td>\n",
       "      <td>E10+</td>\n",
       "      <td>0.01</td>\n",
       "      <td>0.00</td>\n",
       "      <td>0.00</td>\n",
       "      <td>0.00</td>\n",
       "    </tr>\n",
       "    <tr>\n",
       "      <th>16270</th>\n",
       "      <td>0.01</td>\n",
       "      <td>Action</td>\n",
       "      <td>NaN</td>\n",
       "      <td>0.00</td>\n",
       "      <td>0.01</td>\n",
       "      <td>0.00</td>\n",
       "      <td>0.00</td>\n",
       "    </tr>\n",
       "    <tr>\n",
       "      <th>16714</th>\n",
       "      <td>0.01</td>\n",
       "      <td>Simulation</td>\n",
       "      <td>NaN</td>\n",
       "      <td>0.00</td>\n",
       "      <td>0.01</td>\n",
       "      <td>0.00</td>\n",
       "      <td>0.00</td>\n",
       "    </tr>\n",
       "  </tbody>\n",
       "</table>\n",
       "<p>4022 rows × 7 columns</p>\n",
       "</div>"
      ],
      "text/plain": [
       "       total_sales         genre rating  eu_sales  jp_sales  na_sales  \\\n",
       "16           21.05        Action      M      9.09      0.98      7.02   \n",
       "23           16.27        Action      M      5.14      0.06      9.66   \n",
       "29           14.73       Shooter      M      4.24      0.13      9.04   \n",
       "31           14.63       Shooter    NaN      5.86      0.36      6.03   \n",
       "33           14.60  Role-Playing    NaN      4.19      4.35      5.28   \n",
       "...            ...           ...    ...       ...       ...       ...   \n",
       "16265         0.01     Adventure    NaN      0.00      0.01      0.00   \n",
       "16267         0.01     Adventure      T      0.01      0.00      0.00   \n",
       "16268         0.01        Puzzle   E10+      0.01      0.00      0.00   \n",
       "16270         0.01        Action    NaN      0.00      0.01      0.00   \n",
       "16714         0.01    Simulation    NaN      0.00      0.01      0.00   \n",
       "\n",
       "       other_sales  \n",
       "16            3.96  \n",
       "23            1.41  \n",
       "29            1.32  \n",
       "31            2.38  \n",
       "33            0.78  \n",
       "...            ...  \n",
       "16265         0.00  \n",
       "16267         0.00  \n",
       "16268         0.00  \n",
       "16270         0.00  \n",
       "16714         0.00  \n",
       "\n",
       "[4022 rows x 7 columns]"
      ]
     },
     "metadata": {},
     "output_type": "display_data"
    },
    {
     "data": {
      "text/html": [
       "<div>\n",
       "<style scoped>\n",
       "    .dataframe tbody tr th:only-of-type {\n",
       "        vertical-align: middle;\n",
       "    }\n",
       "\n",
       "    .dataframe tbody tr th {\n",
       "        vertical-align: top;\n",
       "    }\n",
       "\n",
       "    .dataframe thead th {\n",
       "        text-align: right;\n",
       "    }\n",
       "</style>\n",
       "<table border=\"1\" class=\"dataframe\">\n",
       "  <thead>\n",
       "    <tr style=\"text-align: right;\">\n",
       "      <th></th>\n",
       "      <th>genre</th>\n",
       "      <th>total_sales</th>\n",
       "      <th>eu_sales</th>\n",
       "      <th>jp_sales</th>\n",
       "      <th>na_sales</th>\n",
       "      <th>other_sales</th>\n",
       "    </tr>\n",
       "  </thead>\n",
       "  <tbody>\n",
       "    <tr>\n",
       "      <th>0</th>\n",
       "      <td>Action</td>\n",
       "      <td>557.80</td>\n",
       "      <td>199.12</td>\n",
       "      <td>63.62</td>\n",
       "      <td>230.92</td>\n",
       "      <td>64.14</td>\n",
       "    </tr>\n",
       "    <tr>\n",
       "      <th>3</th>\n",
       "      <td>Misc</td>\n",
       "      <td>139.42</td>\n",
       "      <td>39.72</td>\n",
       "      <td>17.60</td>\n",
       "      <td>69.69</td>\n",
       "      <td>12.41</td>\n",
       "    </tr>\n",
       "    <tr>\n",
       "      <th>4</th>\n",
       "      <td>Platform</td>\n",
       "      <td>88.68</td>\n",
       "      <td>30.07</td>\n",
       "      <td>12.13</td>\n",
       "      <td>38.28</td>\n",
       "      <td>8.20</td>\n",
       "    </tr>\n",
       "    <tr>\n",
       "      <th>2</th>\n",
       "      <td>Fighting</td>\n",
       "      <td>66.90</td>\n",
       "      <td>16.24</td>\n",
       "      <td>12.38</td>\n",
       "      <td>31.63</td>\n",
       "      <td>6.65</td>\n",
       "    </tr>\n",
       "    <tr>\n",
       "      <th>1</th>\n",
       "      <td>Adventure</td>\n",
       "      <td>45.04</td>\n",
       "      <td>13.96</td>\n",
       "      <td>12.07</td>\n",
       "      <td>14.76</td>\n",
       "      <td>4.25</td>\n",
       "    </tr>\n",
       "  </tbody>\n",
       "</table>\n",
       "</div>"
      ],
      "text/plain": [
       "       genre  total_sales  eu_sales  jp_sales  na_sales  other_sales\n",
       "0     Action       557.80    199.12     63.62    230.92        64.14\n",
       "3       Misc       139.42     39.72     17.60     69.69        12.41\n",
       "4   Platform        88.68     30.07     12.13     38.28         8.20\n",
       "2   Fighting        66.90     16.24     12.38     31.63         6.65\n",
       "1  Adventure        45.04     13.96     12.07     14.76         4.25"
      ]
     },
     "metadata": {},
     "output_type": "display_data"
    },
    {
     "data": {
      "text/html": [
       "<div>\n",
       "<style scoped>\n",
       "    .dataframe tbody tr th:only-of-type {\n",
       "        vertical-align: middle;\n",
       "    }\n",
       "\n",
       "    .dataframe tbody tr th {\n",
       "        vertical-align: top;\n",
       "    }\n",
       "\n",
       "    .dataframe thead th {\n",
       "        text-align: right;\n",
       "    }\n",
       "</style>\n",
       "<table border=\"1\" class=\"dataframe\">\n",
       "  <thead>\n",
       "    <tr style=\"text-align: right;\">\n",
       "      <th></th>\n",
       "      <th>genre</th>\n",
       "      <th>na_sales</th>\n",
       "      <th>eu_sales</th>\n",
       "      <th>jp_sales</th>\n",
       "      <th>other_sales</th>\n",
       "    </tr>\n",
       "  </thead>\n",
       "  <tbody>\n",
       "    <tr>\n",
       "      <th>0</th>\n",
       "      <td>Action</td>\n",
       "      <td>230.92</td>\n",
       "      <td>199.12</td>\n",
       "      <td>63.62</td>\n",
       "      <td>64.14</td>\n",
       "    </tr>\n",
       "    <tr>\n",
       "      <th>1</th>\n",
       "      <td>Adventure</td>\n",
       "      <td>14.76</td>\n",
       "      <td>13.96</td>\n",
       "      <td>12.07</td>\n",
       "      <td>4.25</td>\n",
       "    </tr>\n",
       "    <tr>\n",
       "      <th>2</th>\n",
       "      <td>Fighting</td>\n",
       "      <td>31.63</td>\n",
       "      <td>16.24</td>\n",
       "      <td>12.38</td>\n",
       "      <td>6.65</td>\n",
       "    </tr>\n",
       "    <tr>\n",
       "      <th>3</th>\n",
       "      <td>Misc</td>\n",
       "      <td>69.69</td>\n",
       "      <td>39.72</td>\n",
       "      <td>17.60</td>\n",
       "      <td>12.41</td>\n",
       "    </tr>\n",
       "    <tr>\n",
       "      <th>4</th>\n",
       "      <td>Platform</td>\n",
       "      <td>38.28</td>\n",
       "      <td>30.07</td>\n",
       "      <td>12.13</td>\n",
       "      <td>8.20</td>\n",
       "    </tr>\n",
       "  </tbody>\n",
       "</table>\n",
       "</div>"
      ],
      "text/plain": [
       "       genre  na_sales  eu_sales  jp_sales  other_sales\n",
       "0     Action    230.92    199.12     63.62        64.14\n",
       "1  Adventure     14.76     13.96     12.07         4.25\n",
       "2   Fighting     31.63     16.24     12.38         6.65\n",
       "3       Misc     69.69     39.72     17.60        12.41\n",
       "4   Platform     38.28     30.07     12.13         8.20"
      ]
     },
     "metadata": {},
     "output_type": "display_data"
    },
    {
     "data": {
      "text/html": [
       "<div>\n",
       "<style scoped>\n",
       "    .dataframe tbody tr th:only-of-type {\n",
       "        vertical-align: middle;\n",
       "    }\n",
       "\n",
       "    .dataframe tbody tr th {\n",
       "        vertical-align: top;\n",
       "    }\n",
       "\n",
       "    .dataframe thead th {\n",
       "        text-align: right;\n",
       "    }\n",
       "</style>\n",
       "<table border=\"1\" class=\"dataframe\">\n",
       "  <thead>\n",
       "    <tr style=\"text-align: right;\">\n",
       "      <th></th>\n",
       "      <th>genre</th>\n",
       "      <th>market</th>\n",
       "      <th>sales</th>\n",
       "    </tr>\n",
       "  </thead>\n",
       "  <tbody>\n",
       "    <tr>\n",
       "      <th>0</th>\n",
       "      <td>Action</td>\n",
       "      <td>na_sales</td>\n",
       "      <td>230.92</td>\n",
       "    </tr>\n",
       "    <tr>\n",
       "      <th>1</th>\n",
       "      <td>Adventure</td>\n",
       "      <td>na_sales</td>\n",
       "      <td>14.76</td>\n",
       "    </tr>\n",
       "    <tr>\n",
       "      <th>2</th>\n",
       "      <td>Fighting</td>\n",
       "      <td>na_sales</td>\n",
       "      <td>31.63</td>\n",
       "    </tr>\n",
       "    <tr>\n",
       "      <th>3</th>\n",
       "      <td>Misc</td>\n",
       "      <td>na_sales</td>\n",
       "      <td>69.69</td>\n",
       "    </tr>\n",
       "    <tr>\n",
       "      <th>4</th>\n",
       "      <td>Platform</td>\n",
       "      <td>na_sales</td>\n",
       "      <td>38.28</td>\n",
       "    </tr>\n",
       "    <tr>\n",
       "      <th>5</th>\n",
       "      <td>Action</td>\n",
       "      <td>eu_sales</td>\n",
       "      <td>199.12</td>\n",
       "    </tr>\n",
       "    <tr>\n",
       "      <th>6</th>\n",
       "      <td>Adventure</td>\n",
       "      <td>eu_sales</td>\n",
       "      <td>13.96</td>\n",
       "    </tr>\n",
       "    <tr>\n",
       "      <th>7</th>\n",
       "      <td>Fighting</td>\n",
       "      <td>eu_sales</td>\n",
       "      <td>16.24</td>\n",
       "    </tr>\n",
       "    <tr>\n",
       "      <th>8</th>\n",
       "      <td>Misc</td>\n",
       "      <td>eu_sales</td>\n",
       "      <td>39.72</td>\n",
       "    </tr>\n",
       "    <tr>\n",
       "      <th>9</th>\n",
       "      <td>Platform</td>\n",
       "      <td>eu_sales</td>\n",
       "      <td>30.07</td>\n",
       "    </tr>\n",
       "    <tr>\n",
       "      <th>10</th>\n",
       "      <td>Action</td>\n",
       "      <td>jp_sales</td>\n",
       "      <td>63.62</td>\n",
       "    </tr>\n",
       "    <tr>\n",
       "      <th>11</th>\n",
       "      <td>Adventure</td>\n",
       "      <td>jp_sales</td>\n",
       "      <td>12.07</td>\n",
       "    </tr>\n",
       "    <tr>\n",
       "      <th>12</th>\n",
       "      <td>Fighting</td>\n",
       "      <td>jp_sales</td>\n",
       "      <td>12.38</td>\n",
       "    </tr>\n",
       "    <tr>\n",
       "      <th>13</th>\n",
       "      <td>Misc</td>\n",
       "      <td>jp_sales</td>\n",
       "      <td>17.60</td>\n",
       "    </tr>\n",
       "    <tr>\n",
       "      <th>14</th>\n",
       "      <td>Platform</td>\n",
       "      <td>jp_sales</td>\n",
       "      <td>12.13</td>\n",
       "    </tr>\n",
       "    <tr>\n",
       "      <th>15</th>\n",
       "      <td>Action</td>\n",
       "      <td>other_sales</td>\n",
       "      <td>64.14</td>\n",
       "    </tr>\n",
       "    <tr>\n",
       "      <th>16</th>\n",
       "      <td>Adventure</td>\n",
       "      <td>other_sales</td>\n",
       "      <td>4.25</td>\n",
       "    </tr>\n",
       "    <tr>\n",
       "      <th>17</th>\n",
       "      <td>Fighting</td>\n",
       "      <td>other_sales</td>\n",
       "      <td>6.65</td>\n",
       "    </tr>\n",
       "    <tr>\n",
       "      <th>18</th>\n",
       "      <td>Misc</td>\n",
       "      <td>other_sales</td>\n",
       "      <td>12.41</td>\n",
       "    </tr>\n",
       "    <tr>\n",
       "      <th>19</th>\n",
       "      <td>Platform</td>\n",
       "      <td>other_sales</td>\n",
       "      <td>8.20</td>\n",
       "    </tr>\n",
       "  </tbody>\n",
       "</table>\n",
       "</div>"
      ],
      "text/plain": [
       "        genre       market   sales\n",
       "0      Action     na_sales  230.92\n",
       "1   Adventure     na_sales   14.76\n",
       "2    Fighting     na_sales   31.63\n",
       "3        Misc     na_sales   69.69\n",
       "4    Platform     na_sales   38.28\n",
       "5      Action     eu_sales  199.12\n",
       "6   Adventure     eu_sales   13.96\n",
       "7    Fighting     eu_sales   16.24\n",
       "8        Misc     eu_sales   39.72\n",
       "9    Platform     eu_sales   30.07\n",
       "10     Action     jp_sales   63.62\n",
       "11  Adventure     jp_sales   12.07\n",
       "12   Fighting     jp_sales   12.38\n",
       "13       Misc     jp_sales   17.60\n",
       "14   Platform     jp_sales   12.13\n",
       "15     Action  other_sales   64.14\n",
       "16  Adventure  other_sales    4.25\n",
       "17   Fighting  other_sales    6.65\n",
       "18       Misc  other_sales   12.41\n",
       "19   Platform  other_sales    8.20"
      ]
     },
     "metadata": {},
     "output_type": "display_data"
    }
   ],
   "source": [
    "\n",
    "df_games_3 = df_games[df_games['year_of_release'] >= 2011][['total_sales', 'genre', 'rating', 'eu_sales', 'jp_sales', 'na_sales', 'other_sales']].sort_values(by = 'total_sales', ascending = False)\n",
    "\n",
    "display(df_games_3)\n",
    "\n",
    "\n",
    "# 5 generos con mayores ventas totales\n",
    "total_genre_5_years = df_games_3.groupby('genre')[['total_sales','eu_sales', 'rating', 'jp_sales', 'na_sales', 'other_sales']].sum().reset_index()\n",
    "\n",
    "top_genre_5_years = total_genre_5_years.head(5).sort_values(by = 'total_sales', ascending = False)\n",
    "\n",
    "display(top_genre_5_years)\n",
    "\n",
    "market_sales_2 = top_genre_5_years.groupby('genre').agg({\n",
    "    'na_sales':'sum',\n",
    "    'eu_sales': 'sum',\n",
    "    'jp_sales': 'sum',\n",
    "    'other_sales': 'sum'\n",
    "    \n",
    "}).reset_index()\n",
    "\n",
    "display(market_sales_2)\n",
    "\n",
    "market_sales_2 = pd.melt(market_sales_2, id_vars = ['genre'], \n",
    "                       value_vars = ['na_sales', 'eu_sales', 'jp_sales', 'other_sales'], \n",
    "                       var_name = 'market', \n",
    "                       value_name = 'sales')\n",
    "\n",
    "display(market_sales_2)"
   ]
  },
  {
   "cell_type": "code",
   "execution_count": 50,
   "metadata": {},
   "outputs": [
    {
     "data": {
      "text/plain": [
       "<AxesSubplot:xlabel='market', ylabel='sales'>"
      ]
     },
     "execution_count": 50,
     "metadata": {},
     "output_type": "execute_result"
    },
    {
     "data": {
      "image/png": "[encoded data removed]",
      "text/plain": [
       "<Figure size 1400x700 with 1 Axes>"
      ]
     },
     "metadata": {},
     "output_type": "display_data"
    }
   ],
   "source": [
    "plt.figure(figsize=(14, 7))\n",
    "sns.barplot(data = market_sales_2, x = 'market', y = 'sales', hue = 'genre')"
   ]
  },
  {
   "cell_type": "markdown",
   "metadata": {},
   "source": [
    "El gráfico de barras muestra las ventas de los cinco géneros principales en las diferentes regiones.\n",
    "\n",
    "- Action\n",
    "\n",
    "Es el género más vendido en todas las regiones, con las ventas más altas en NA (Norte América) y EU (Europa).\n",
    "\n",
    "- Adventure\n",
    "\n",
    "Tiene ventas mucho más bajas en comparación con el género de Acción en todas las regiones, siendo más bajo en JP (Japón).\n",
    "\n",
    "- Fighting\n",
    "\n",
    "Tiene ventas más bajas en comparación con los géneros de Acción y Aventura en todas las regiones, con ventas más altas en NA.\n",
    "\n",
    "\n",
    "- Misc\n",
    "\n",
    "Tiene ventas más altas que Aventura y Lucha, pero aún inferiores a Acción en todas las regiones.\n",
    "\n",
    "- Platform\n",
    "\n",
    "Tiene ventas similares a las de Misc en NA y EU, pero ligeramente más bajas en JP.\n",
    "\n",
    "El género de Action tiene la mayor cantidad de ventas en todas las regiones, seguido de Misc, mientras que Adventure, Fighting y Platform tienen ventas más bajas en comparación. Esta diferencia puede atribuirse a la popularidad de ciertos géneros en diferentes regiones, así como a la disponibilidad de juegos específicos de cada género en esas regiones."
   ]
  },
  {
   "cell_type": "markdown",
   "metadata": {},
   "source": [
    "### Si las clasificaciones de ESRB afectan a las ventas en regiones individuales."
   ]
  },
  {
   "cell_type": "code",
   "execution_count": 51,
   "metadata": {},
   "outputs": [
    {
     "data": {
      "text/html": [
       "<div>\n",
       "<style scoped>\n",
       "    .dataframe tbody tr th:only-of-type {\n",
       "        vertical-align: middle;\n",
       "    }\n",
       "\n",
       "    .dataframe tbody tr th {\n",
       "        vertical-align: top;\n",
       "    }\n",
       "\n",
       "    .dataframe thead th {\n",
       "        text-align: right;\n",
       "    }\n",
       "</style>\n",
       "<table border=\"1\" class=\"dataframe\">\n",
       "  <thead>\n",
       "    <tr style=\"text-align: right;\">\n",
       "      <th></th>\n",
       "      <th>rating</th>\n",
       "      <th>market</th>\n",
       "      <th>sales</th>\n",
       "    </tr>\n",
       "  </thead>\n",
       "  <tbody>\n",
       "    <tr>\n",
       "      <th>0</th>\n",
       "      <td>E</td>\n",
       "      <td>na_sales</td>\n",
       "      <td>170.17</td>\n",
       "    </tr>\n",
       "    <tr>\n",
       "      <th>1</th>\n",
       "      <td>E10+</td>\n",
       "      <td>na_sales</td>\n",
       "      <td>117.72</td>\n",
       "    </tr>\n",
       "    <tr>\n",
       "      <th>2</th>\n",
       "      <td>EC</td>\n",
       "      <td>na_sales</td>\n",
       "      <td>0.42</td>\n",
       "    </tr>\n",
       "    <tr>\n",
       "      <th>3</th>\n",
       "      <td>M</td>\n",
       "      <td>na_sales</td>\n",
       "      <td>308.45</td>\n",
       "    </tr>\n",
       "    <tr>\n",
       "      <th>4</th>\n",
       "      <td>RP</td>\n",
       "      <td>na_sales</td>\n",
       "      <td>0.00</td>\n",
       "    </tr>\n",
       "    <tr>\n",
       "      <th>5</th>\n",
       "      <td>T</td>\n",
       "      <td>na_sales</td>\n",
       "      <td>109.31</td>\n",
       "    </tr>\n",
       "    <tr>\n",
       "      <th>6</th>\n",
       "      <td>E</td>\n",
       "      <td>eu_sales</td>\n",
       "      <td>141.73</td>\n",
       "    </tr>\n",
       "    <tr>\n",
       "      <th>7</th>\n",
       "      <td>E10+</td>\n",
       "      <td>eu_sales</td>\n",
       "      <td>78.00</td>\n",
       "    </tr>\n",
       "    <tr>\n",
       "      <th>8</th>\n",
       "      <td>EC</td>\n",
       "      <td>eu_sales</td>\n",
       "      <td>0.00</td>\n",
       "    </tr>\n",
       "    <tr>\n",
       "      <th>9</th>\n",
       "      <td>M</td>\n",
       "      <td>eu_sales</td>\n",
       "      <td>250.26</td>\n",
       "    </tr>\n",
       "    <tr>\n",
       "      <th>10</th>\n",
       "      <td>RP</td>\n",
       "      <td>eu_sales</td>\n",
       "      <td>0.03</td>\n",
       "    </tr>\n",
       "    <tr>\n",
       "      <th>11</th>\n",
       "      <td>T</td>\n",
       "      <td>eu_sales</td>\n",
       "      <td>83.16</td>\n",
       "    </tr>\n",
       "    <tr>\n",
       "      <th>12</th>\n",
       "      <td>E</td>\n",
       "      <td>jp_sales</td>\n",
       "      <td>36.68</td>\n",
       "    </tr>\n",
       "    <tr>\n",
       "      <th>13</th>\n",
       "      <td>E10+</td>\n",
       "      <td>jp_sales</td>\n",
       "      <td>11.23</td>\n",
       "    </tr>\n",
       "    <tr>\n",
       "      <th>14</th>\n",
       "      <td>EC</td>\n",
       "      <td>jp_sales</td>\n",
       "      <td>0.00</td>\n",
       "    </tr>\n",
       "    <tr>\n",
       "      <th>15</th>\n",
       "      <td>M</td>\n",
       "      <td>jp_sales</td>\n",
       "      <td>26.14</td>\n",
       "    </tr>\n",
       "    <tr>\n",
       "      <th>16</th>\n",
       "      <td>RP</td>\n",
       "      <td>jp_sales</td>\n",
       "      <td>0.00</td>\n",
       "    </tr>\n",
       "    <tr>\n",
       "      <th>17</th>\n",
       "      <td>T</td>\n",
       "      <td>jp_sales</td>\n",
       "      <td>33.39</td>\n",
       "    </tr>\n",
       "    <tr>\n",
       "      <th>18</th>\n",
       "      <td>E</td>\n",
       "      <td>other_sales</td>\n",
       "      <td>40.86</td>\n",
       "    </tr>\n",
       "    <tr>\n",
       "      <th>19</th>\n",
       "      <td>E10+</td>\n",
       "      <td>other_sales</td>\n",
       "      <td>23.91</td>\n",
       "    </tr>\n",
       "    <tr>\n",
       "      <th>20</th>\n",
       "      <td>EC</td>\n",
       "      <td>other_sales</td>\n",
       "      <td>0.03</td>\n",
       "    </tr>\n",
       "    <tr>\n",
       "      <th>21</th>\n",
       "      <td>M</td>\n",
       "      <td>other_sales</td>\n",
       "      <td>81.96</td>\n",
       "    </tr>\n",
       "    <tr>\n",
       "      <th>22</th>\n",
       "      <td>RP</td>\n",
       "      <td>other_sales</td>\n",
       "      <td>0.01</td>\n",
       "    </tr>\n",
       "    <tr>\n",
       "      <th>23</th>\n",
       "      <td>T</td>\n",
       "      <td>other_sales</td>\n",
       "      <td>28.17</td>\n",
       "    </tr>\n",
       "  </tbody>\n",
       "</table>\n",
       "</div>"
      ],
      "text/plain": [
       "   rating       market   sales\n",
       "0       E     na_sales  170.17\n",
       "1    E10+     na_sales  117.72\n",
       "2      EC     na_sales    0.42\n",
       "3       M     na_sales  308.45\n",
       "4      RP     na_sales    0.00\n",
       "5       T     na_sales  109.31\n",
       "6       E     eu_sales  141.73\n",
       "7    E10+     eu_sales   78.00\n",
       "8      EC     eu_sales    0.00\n",
       "9       M     eu_sales  250.26\n",
       "10     RP     eu_sales    0.03\n",
       "11      T     eu_sales   83.16\n",
       "12      E     jp_sales   36.68\n",
       "13   E10+     jp_sales   11.23\n",
       "14     EC     jp_sales    0.00\n",
       "15      M     jp_sales   26.14\n",
       "16     RP     jp_sales    0.00\n",
       "17      T     jp_sales   33.39\n",
       "18      E  other_sales   40.86\n",
       "19   E10+  other_sales   23.91\n",
       "20     EC  other_sales    0.03\n",
       "21      M  other_sales   81.96\n",
       "22     RP  other_sales    0.01\n",
       "23      T  other_sales   28.17"
      ]
     },
     "metadata": {},
     "output_type": "display_data"
    }
   ],
   "source": [
    "df_games_4 = df_games[df_games['year_of_release'] >= 2011][['total_sales', 'rating', 'eu_sales', 'jp_sales', 'na_sales', 'other_sales']].sort_values(by='total_sales', ascending=False)\n",
    "\n",
    "total_esrb_5_years = df_games_4.groupby('rating', as_index=False)[['total_sales', 'eu_sales', 'jp_sales', 'na_sales', 'other_sales']].sum()\n",
    "\n",
    "market_sales_3 = total_esrb_5_years.groupby('rating').agg({\n",
    "    'na_sales': 'sum',\n",
    "    'eu_sales': 'sum',\n",
    "    'jp_sales': 'sum',\n",
    "    'other_sales': 'sum'\n",
    "}).reset_index()\n",
    "\n",
    "market_sales_3 = pd.melt(market_sales_3, id_vars=['rating'], \n",
    "                         value_vars=['na_sales', 'eu_sales', 'jp_sales', 'other_sales'], \n",
    "                         var_name='market', \n",
    "                         value_name='sales')\n",
    "\n",
    "display(market_sales_3)"
   ]
  },
  {
   "cell_type": "code",
   "execution_count": 52,
   "metadata": {},
   "outputs": [
    {
     "data": {
      "text/plain": [
       "<AxesSubplot:xlabel='market', ylabel='sales'>"
      ]
     },
     "execution_count": 52,
     "metadata": {},
     "output_type": "execute_result"
    },
    {
     "data": {
      "image/png": "[encoded data removed]",
      "text/plain": [
       "<Figure size 1400x700 with 1 Axes>"
      ]
     },
     "metadata": {},
     "output_type": "display_data"
    }
   ],
   "source": [
    "plt.figure(figsize=(14, 7))\n",
    "sns.barplot(data = market_sales_3, x = 'market', y = 'sales', hue = 'rating')"
   ]
  },
  {
   "cell_type": "markdown",
   "metadata": {},
   "source": [
    "El gráfico de barras muestra las ventas en diferentes regiones según las clasificaciones de la ESRB (Entertainment Software Rating Board)\n",
    "\n",
    "E = Everyone\n",
    "\n",
    "E10+ = Everyone 10 and older\n",
    "\n",
    "EC = Early Childhood\n",
    "\n",
    "M = Mature\n",
    "\n",
    "RP = Rating Pending\n",
    "\n",
    "T =Teen\n",
    "\n",
    "\n",
    "- \"E\" (Everyone)\n",
    "\n",
    "Tiene ventas más altas en NA (Norte América) y EU (Europa) en comparación con JP (Japón) y otras ventas.\n",
    "\n",
    "- Clasificación \"E10+\" (Everyone 10 and older)\n",
    "\n",
    "Tiene ventas más bajas en todas las regiones en comparación con la clasificación \"E\", pero aún así, muestra ventas significativas en NA y EU.\n",
    "\n",
    "- Clasificación \"EC\" (Early Childhood)\n",
    "\n",
    "Tiene ventas muy bajas en todas las regiones.\n",
    "\n",
    "- Clasificación \"M\" (Mature) \n",
    "\n",
    "Tiene las ventas más altas en todas las regiones, especialmente en NA y EU.\n",
    "\n",
    "- \"RP\" (Rating Pending)\n",
    "\n",
    "Se considera un dato no relevnate, puesto que no se ha hecho la clasificación\n",
    "\n",
    "- \"T\" (Teen)\n",
    "\n",
    "Muestra ventas moderadas en todas las regiones, siendo más altas en NA y EU en comparación con JP y otras ventas.\n",
    "\n",
    "la clasificación de la ESRB sí afecta a las ventas en regiones individuales. Las clasificaciones más altas, como \"Mature\", tienden a tener ventas más altas, mientras que las clasificaciones más bajas, como \"Early Childhood\", tienen ventas muy bajas. Esto sugiere que la clasificación de la ESRB puede influir en las decisiones de compra de los consumidores en diferentes regiones."
   ]
  },
  {
   "cell_type": "markdown",
   "metadata": {},
   "source": [
    "## Paso 5. Prueba las siguientes hipótesis:"
   ]
  },
  {
   "cell_type": "markdown",
   "metadata": {},
   "source": [
    "### Las calificaciones promedio de los usuarios para las plataformas Xbox One y PC son las mismas."
   ]
  },
  {
   "cell_type": "code",
   "execution_count": 53,
   "metadata": {},
   "outputs": [
    {
     "name": "stdout",
     "output_type": "stream",
     "text": [
      "\n",
      "      La calificación promedio de los ususarios para Xbox One es:6.521428571428572 \n",
      "      La calificación promedio de los ususarios para PC es: 7.065960264900661\n",
      "      \n",
      "\n",
      "Valor p:  4.5385802963771835e-06\n",
      "Rechazamos la hipótesis nula\n"
     ]
    }
   ],
   "source": [
    "# Hipótesis nula H0 =  Las calificaciones promedio de los usuarios para las plataformas Xbox One y PC son las mismas.\n",
    "# Hipótesis alternativa = Las calificaciones promedio de los usuarios para las plataformas Xbox One y PC son diferentes.\n",
    "# alpha = 0.05 Voy a usar el nivel estandar\n",
    "# Hipótesis sobre la igualdad de las medias de dos poblaciones\n",
    "# Prueba estadística = Prueba ttest\n",
    "\n",
    "# Hipotesis 1 = Calificaciones promedio por plataforma\n",
    "\n",
    "df_games['platform'].unique()\n",
    "\n",
    "score_xbox_one = df_games[df_games['platform'] == 'XOne']['user_score'].dropna()\n",
    "score_pc = df_games[df_games['platform'] == 'PC']['user_score'].dropna()\n",
    "\n",
    "alpha = 0.05\n",
    "\n",
    "results = st.ttest_ind(score_xbox_one, score_pc, equal_var = False)\n",
    "\n",
    "print(f\"\"\"\n",
    "      La calificación promedio de los ususarios para Xbox One es:{score_xbox_one.mean()} \n",
    "      La calificación promedio de los ususarios para PC es: {score_pc.mean()}\n",
    "      \n",
    "\"\"\"\"\")\n",
    "\n",
    "\n",
    "print('Valor p: ', results.pvalue)\n",
    "\n",
    "# compara los valores p obtenidos con el nivel de significación estadística\n",
    "\n",
    "if results.pvalue < alpha:\n",
    "    print(\"Rechazamos la hipótesis nula\")\n",
    "else:\n",
    "    print(\"No podemos rechazar la hipótesis nula\")\n",
    "    "
   ]
  },
  {
   "cell_type": "markdown",
   "metadata": {},
   "source": [
    "La prueba t de Student (t-test) se utilizó en este análisis para comparar las medias de dos muestras independientes: las calificaciones promedio de los usuarios para las plataformas Xbox One y PC. Se optó por esta prueba estadística debido a que se estaban comparando dos grupos diferentes y se quería determinar si las diferencias observadas entre las medias de estos grupos eran estadísticamente significativas.\n",
    "\n",
    "\n",
    "La H₀ suele expresar la idea de que no hay diferencias entre los grupos. Esta hipótesis nula supone que no hay ningún cambio o efecto, esta hipótesis suele darse por cierta hasta que se presentan pruebas que la desmienten.\n",
    "\n",
    "utilizamos la hipótesis nula para asegurarnos de que los valores obtenidos en el experimento no son extremos, sino que caen dentro del rango esperado.\n",
    "\n",
    "En este caso la hipótesis nula es \"Las calificaciones promedio de los usuarios para las plataformas Xbox One y PC son las mismas\", se eligío como hipótesis nula porque expresa la idea de que no hay diferencias entre los grupos.\n",
    "\n",
    "La hipótesis alternativa, H₁, se basa en H₀\n",
    "\n",
    "Hipótesis nula = Las calificaciones promedio de los usuarios para las plataformas Xbox One y PC son las mismas\n",
    "\n",
    "Hipótesis alternativa = Las calificaciones promedio de los usuarios para las plataformas Xbox One y PC son diferentes.\n",
    "\n",
    "Para el valor de alpha se eligí 0.05, siendo este un valor a nivel estandar.\n",
    "\n",
    "Prueba estadística = Prueba ttest\n",
    "\n",
    "El valor p obtenido fue significativamente menor que el nivel de significancia alpha (0.05), lo que indica que hay evidencia suficiente para rechazar la hipótesis nula. Por lo tanto, se concluye que las calificaciones promedio de los usuarios para Xbox One y PC son diferentes.\n",
    "\n",
    "La elección de la hipótesis nula se basó en la idea de que no hay diferencias entre los grupos, y se estableció una significancia alfa de 0.05, que es un valor comúnmente utilizado como estándar en la mayoría de las pruebas de hipótesis.\n",
    "\n",
    "\n",
    "En conclusión, se rechaza la hipótesis nula, lo que quiere decir que las clasificaciones promedio de los usuarios para las plataformas Xbox One y PC son diferentes."
   ]
  },
  {
   "cell_type": "markdown",
   "metadata": {},
   "source": [
    "### Las calificaciones promedio de los usuarios para los géneros de Acción y Deportes son diferentes."
   ]
  },
  {
   "cell_type": "markdown",
   "metadata": {},
   "source": [
    "Establece tu mismo el valor de umbral alfa.\n",
    "\n",
    "Explica:"
   ]
  },
  {
   "cell_type": "code",
   "execution_count": 54,
   "metadata": {},
   "outputs": [
    {
     "name": "stdout",
     "output_type": "stream",
     "text": [
      "\n",
      "      La calificación promedio de los ususarios para el género de Acción es:7.058129175946549 \n",
      "      La calificación promedio de los ususarios para el género de Deportes es: 6.951433857539316\n",
      "      \n",
      "\n",
      "Valor p:  0.07370217419278526\n",
      "No podemos rechazar la hipótesis nula\n"
     ]
    }
   ],
   "source": [
    "# Hipótesis nula H0 =  Las calificaciones promedio de los usuarios para los géneros de Acción y Deportes son iguales.\n",
    "# Hipótesis alternativa = Las calificaciones promedio de los usuarios para los géneros de Acción y Deportes son diferentes.\n",
    "# alpha = 0.05\n",
    "# Hipótesis sobre la igualdad de las medias de dos poblaciones\n",
    "# Prueba estadística = Prueba t\n",
    "\n",
    "# Hipotesis 2 = Calificaciones promedio por genero\n",
    "\n",
    "df_games['genre'].unique()\n",
    "\n",
    "score_action = df_games[df_games['genre'] == 'Action']['user_score'].dropna()\n",
    "score_sports = df_games[df_games['genre'] == 'Sports']['user_score'].dropna()\n",
    "\n",
    "alpha = 0.05\n",
    "\n",
    "results_2 = st.ttest_ind(score_action, score_sports,equal_var = False )\n",
    "\n",
    "print(f\"\"\"\n",
    "      La calificación promedio de los ususarios para el género de Acción es:{score_action.mean()} \n",
    "      La calificación promedio de los ususarios para el género de Deportes es: {score_sports.mean()}\n",
    "      \n",
    "\"\"\"\"\")\n",
    "\n",
    "\n",
    "print('Valor p: ', results_2.pvalue)\n",
    "\n",
    "if results_2.pvalue < alpha:\n",
    "    print('Rechazamos la hipótesis nula')\n",
    "else:\n",
    "    print(\"No podemos rechazar la hipótesis nula\")\n"
   ]
  },
  {
   "cell_type": "markdown",
   "metadata": {},
   "source": [
    "### Cómo formulaste las hipótesis nula y alternativa."
   ]
  },
  {
   "cell_type": "markdown",
   "metadata": {},
   "source": [
    "La H₀ suele expresar la idea de que no hay diferencias entre los grupos. Esta hipótesis nula supone que no hay ningún cambio o efecto, esta hipótesis suele darse por cierta hasta que se presentan pruebas que la desmienten.\n",
    "\n",
    "utilizamos la hipótesis nula para asegurarnos de que los valores obtenidos en el experimento no son extremos, sino que caen dentro del rango esperado.\n",
    "\n",
    "La elección de la hipótesis nula se basó en la idea de que no hay diferencias entre los grupos, y se estableció una significancia alfa de 0.05, que es un valor comúnmente utilizado como estándar en la mayoría de las pruebas de hipótesis.\n",
    "\n",
    "En este caso la hipótesis nula es \"Las calificaciones promedio de los usuarios para los géneros de Action y Sports son iguales.\", se eligío como hipótesis nula porque expresa la idea de que no hay diferencias entre los grupos.\n",
    "\n",
    "La hipótesis alternativa, H₁, se basa en H₀\n",
    "\n",
    "Hipótesis nula = Las calificaciones promedio de los usuarios para los géneros de Acción y Deportes son iguales.\n",
    "\n",
    "Hipótesis alternativa = Las calificaciones promedio de los usuarios para los géneros de Acción y Deportes son diferentes."
   ]
  },
  {
   "cell_type": "markdown",
   "metadata": {},
   "source": [
    "### Qué criterio utilizaste para probar las hipótesis y por qué."
   ]
  },
  {
   "cell_type": "markdown",
   "metadata": {},
   "source": [
    "La prueba t de Student (t-test) se utilizó en este análisis para comparar las medias de dos muestras independientes: las calificaciones promedio de los usuarios para las plataformas Xbox One y PC. Se optó por esta prueba estadística debido a que se estaban comparando dos grupos diferentes y se quería determinar si las diferencias observadas entre las medias de estos grupos eran estadísticamente significativas."
   ]
  },
  {
   "cell_type": "markdown",
   "metadata": {},
   "source": [
    "Para el valor de alpha se eligí 0.05, siendo este un valor a nivel estandar.\n",
    "\n",
    "Prueba estadística = Prueba ttest\n",
    "\n",
    "El valor p obtenido fue  mayor que el nivel de significancia alpha (0.05), lo que indica que hay evidencia suficiente para no rechazar la hipótesis nula. Por lo tanto, se concluye que las calificaciones promedio de los usuarios para los géneros de Action y sports son iguales.\n"
   ]
  }
 ],
 "metadata": {
  "ExecuteTimeLog": [
   {
    "duration": 1276,
    "start_time": "2024-07-26T01:37:50.211Z"
   },
   {
    "duration": 93,
    "start_time": "2024-07-26T01:37:51.491Z"
   },
   {
    "duration": 5,
    "start_time": "2024-07-26T01:37:51.587Z"
   },
   {
    "duration": 6,
    "start_time": "2024-07-26T01:37:51.610Z"
   },
   {
    "duration": 20,
    "start_time": "2024-07-26T01:37:51.619Z"
   },
   {
    "duration": 12,
    "start_time": "2024-07-26T01:37:51.642Z"
   },
   {
    "duration": 7,
    "start_time": "2024-07-26T01:37:51.657Z"
   },
   {
    "duration": 42,
    "start_time": "2024-07-26T01:37:51.668Z"
   },
   {
    "duration": 6,
    "start_time": "2024-07-26T01:37:51.713Z"
   },
   {
    "duration": 7,
    "start_time": "2024-07-26T01:37:51.725Z"
   },
   {
    "duration": 19,
    "start_time": "2024-07-26T01:37:51.735Z"
   },
   {
    "duration": 58,
    "start_time": "2024-07-26T01:37:51.757Z"
   },
   {
    "duration": 6,
    "start_time": "2024-07-26T01:37:51.818Z"
   },
   {
    "duration": 8,
    "start_time": "2024-07-26T01:37:51.827Z"
   },
   {
    "duration": 5,
    "start_time": "2024-07-26T01:37:51.838Z"
   },
   {
    "duration": 6,
    "start_time": "2024-07-26T01:37:51.846Z"
   },
   {
    "duration": 62,
    "start_time": "2024-07-26T01:37:51.854Z"
   },
   {
    "duration": 8,
    "start_time": "2024-07-26T01:37:51.925Z"
   },
   {
    "duration": 26,
    "start_time": "2024-07-26T01:37:51.941Z"
   },
   {
    "duration": 6,
    "start_time": "2024-07-26T01:37:51.970Z"
   },
   {
    "duration": 30,
    "start_time": "2024-07-26T01:37:51.979Z"
   },
   {
    "duration": 28,
    "start_time": "2024-07-26T01:37:52.011Z"
   },
   {
    "duration": 6,
    "start_time": "2024-07-26T01:37:52.042Z"
   },
   {
    "duration": 5,
    "start_time": "2024-07-26T01:37:52.052Z"
   },
   {
    "duration": 63,
    "start_time": "2024-07-26T01:37:52.061Z"
   },
   {
    "duration": 22,
    "start_time": "2024-07-26T01:37:52.128Z"
   },
   {
    "duration": 745,
    "start_time": "2024-07-26T01:37:52.154Z"
   },
   {
    "duration": 504,
    "start_time": "2024-07-26T01:37:52.914Z"
   },
   {
    "duration": 19,
    "start_time": "2024-07-26T01:37:53.421Z"
   },
   {
    "duration": 13,
    "start_time": "2024-07-26T01:37:53.444Z"
   },
   {
    "duration": 50,
    "start_time": "2024-07-26T01:37:53.460Z"
   },
   {
    "duration": 338,
    "start_time": "2024-07-26T01:37:53.516Z"
   },
   {
    "duration": 27,
    "start_time": "2024-07-26T01:37:53.857Z"
   },
   {
    "duration": 21,
    "start_time": "2024-07-26T01:37:53.888Z"
   },
   {
    "duration": 35,
    "start_time": "2024-07-26T01:37:53.911Z"
   },
   {
    "duration": 21,
    "start_time": "2024-07-26T01:37:53.949Z"
   },
   {
    "duration": 301,
    "start_time": "2024-07-26T01:37:53.973Z"
   },
   {
    "duration": 659,
    "start_time": "2024-07-26T01:37:54.277Z"
   },
   {
    "duration": 10,
    "start_time": "2024-07-26T01:37:54.939Z"
   },
   {
    "duration": 274,
    "start_time": "2024-07-26T01:37:54.952Z"
   },
   {
    "duration": 310,
    "start_time": "2024-07-26T01:37:55.229Z"
   },
   {
    "duration": 306,
    "start_time": "2024-07-26T01:37:55.544Z"
   },
   {
    "duration": 695,
    "start_time": "2024-07-26T01:37:55.853Z"
   },
   {
    "duration": 10,
    "start_time": "2024-07-26T01:37:56.552Z"
   },
   {
    "duration": 356,
    "start_time": "2024-07-26T01:37:56.565Z"
   },
   {
    "duration": 21,
    "start_time": "2024-07-26T01:37:56.924Z"
   },
   {
    "duration": 18,
    "start_time": "2024-07-26T01:37:56.949Z"
   },
   {
    "duration": 428,
    "start_time": "2024-07-26T01:37:56.973Z"
   },
   {
    "duration": 153,
    "start_time": "2024-07-26T01:37:57.409Z"
   },
   {
    "duration": 408,
    "start_time": "2024-07-26T01:37:57.566Z"
   },
   {
    "duration": 44,
    "start_time": "2024-07-26T01:37:57.977Z"
   },
   {
    "duration": 414,
    "start_time": "2024-07-26T01:37:58.024Z"
   },
   {
    "duration": 17,
    "start_time": "2024-07-26T01:37:58.441Z"
   },
   {
    "duration": 17,
    "start_time": "2024-07-26T01:37:58.461Z"
   }
  ],
  "kernelspec": {
   "display_name": "Python 3 (ipykernel)",
   "language": "python",
   "name": "python3"
  },
  "language_info": {
   "codemirror_mode": {
    "name": "ipython",
    "version": 3
   },
   "file_extension": ".py",
   "mimetype": "text/x-python",
   "name": "python",
   "nbconvert_exporter": "python",
   "pygments_lexer": "ipython3",
   "version": "3.9.19"
  },
  "toc": {
   "base_numbering": 1,
   "nav_menu": {},
   "number_sections": true,
   "sideBar": true,
   "skip_h1_title": true,
   "title_cell": "Table of Contents",
   "title_sidebar": "Contents",
   "toc_cell": false,
   "toc_position": {
    "height": "calc(100% - 180px)",
    "left": "10px",
    "top": "150px",
    "width": "190.4px"
   },
   "toc_section_display": true,
   "toc_window_display": true
  }
 },
 "nbformat": 4,
 "nbformat_minor": 2
}
